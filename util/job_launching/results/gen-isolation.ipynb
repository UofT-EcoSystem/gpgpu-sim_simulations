{
 "cells": [
  {
   "cell_type": "code",
   "execution_count": 21,
   "metadata": {},
   "outputs": [
    {
     "name": "stdout",
     "output_type": "stream",
     "text": [
      "The autoreload extension is already loaded. To reload it, use:\n",
      "  %reload_ext autoreload\n"
     ]
    }
   ],
   "source": [
    "%load_ext autoreload\n",
    "%autoreload 2\n",
    "\n",
    "import numpy as np\n",
    "import matplotlib.pyplot as plt\n",
    "import matplotlib as mpl\n",
    "import pandas as pd\n",
    "from tabulate import tabulate\n",
    "import re\n",
    "import seaborn as sns\n",
    "from matplotlib.backends.backend_pdf import PdfPages\n",
    "import os\n",
    "import sys\n",
    "\n",
    "module_path = '/home/serinatan/project/gpgpu-sim_simulations/util/job_launching/results'\n",
    "if module_path not in sys.path:\n",
    "    sys.path.append(module_path)\n",
    "    \n",
    "import helper.help_iso as hi\n",
    "\n",
    "\n",
    "bench_dict = {'cut_sgemm-0':0, 'cut_sgemm-1':0, 'cut_wmma-0': 0, 'cut_wmma-1': 0, \n",
    "         'parb_stencil-0': 1, 'parb_sgemm-0': 0,\n",
    "         'parb_lbm-0': 1, 'parb_spmv-0': 1, 'parb_cutcp-0': 0}\n",
    "\n",
    "mpl.style.use('seaborn-paper')\n",
    "\n",
    "\n",
    "\n"
   ]
  },
  {
   "cell_type": "markdown",
   "metadata": {},
   "source": [
    "## Read CSVs"
   ]
  },
  {
   "cell_type": "code",
   "execution_count": 44,
   "metadata": {},
   "outputs": [
    {
     "name": "stdout",
     "output_type": "stream",
     "text": [
      "Index(['pair_str', 'config', 'gpusim_version', 'jobId', 'grid_x', 'grid_y',\n",
      "       'grid_z', 'block_x', 'block_y', 'block_z', 'ctas/SM', 'runtime', 'ipc',\n",
      "       'instructions', 'avg_mem_lat', 'avg_core_to_l2', 'avg_l2_to_core',\n",
      "       'avg_mrq_latency', 'stall_core_ldst', 'stall_icnt_to_l2', 'l2_BW',\n",
      "       'l2_rshr_entry_fail', 'l2_rshr_merge_fail', 'stall_l2_to_icnt',\n",
      "       'l1D_miss_rate', 'l2_miss_rate', 'l2_total_accesses', 'packet_lat_out',\n",
      "       'network_lat_out', 'inject_out', 'accepted_out', 'packet_lat_in',\n",
      "       'network_lat_in', 'inject_in', 'accepted_in',\n",
      "       'mem_subpartition_parallism', 'mem_subpartition_parallism_util',\n",
      "       'L2_reservation_fail', 'dram_eff', 'dram_bw', 'row_buffer_locality',\n",
      "       'mrqq', 'total_cmd', 'wasted_col', 'wasted_row', 'mem_idle', 'CCDLc',\n",
      "       'WTRc', 'RTWc', 'RCDc', 'RCDWRc'],\n",
      "      dtype='object')\n"
     ]
    }
   ],
   "source": [
    "df_seq = pd.read_csv('seq.csv')\n",
    "df_intra = pd.read_csv('intra.csv')\n",
    "df_inter = pd.read_csv('inter.csv')\n",
    "print(df_inter.columns)"
   ]
  },
  {
   "cell_type": "markdown",
   "metadata": {},
   "source": [
    "## Process columns"
   ]
  },
  {
   "cell_type": "code",
   "execution_count": 45,
   "metadata": {},
   "outputs": [
    {
     "name": "stdout",
     "output_type": "stream",
     "text": [
      "Index(['pair_str', 'config', 'gpusim_version', 'jobId', 'grid_x', 'grid_y',\n",
      "       'grid_z', 'block_x', 'block_y', 'block_z', 'ctas/SM', 'runtime', 'ipc',\n",
      "       'instructions', 'avg_mem_lat', 'avg_core_to_l2', 'avg_l2_to_core',\n",
      "       'avg_mrq_latency', 'stall_core_ldst', 'stall_icnt_to_l2', 'l2_BW',\n",
      "       'l2_rshr_entry_fail', 'l2_rshr_merge_fail', 'stall_l2_to_icnt',\n",
      "       'l1D_miss_rate', 'l2_miss_rate', 'l2_total_accesses', 'packet_lat_out',\n",
      "       'network_lat_out', 'inject_out', 'accepted_out', 'packet_lat_in',\n",
      "       'network_lat_in', 'inject_in', 'accepted_in',\n",
      "       'mem_subpartition_parallism', 'mem_subpartition_parallism_util',\n",
      "       'L2_reservation_fail', 'dram_eff', 'dram_bw', 'row_buffer_locality',\n",
      "       'mrqq', 'total_cmd', 'wasted_col', 'wasted_row', 'mem_idle', 'CCDLc',\n",
      "       'WTRc', 'RTWc', 'RCDc', 'RCDWRc', 'norm_ipc', 'avg_dram_bw',\n",
      "       'dram_idleness', 'intra', 'l2'],\n",
      "      dtype='object')\n"
     ]
    }
   ],
   "source": [
    "# scale all IPC to baseline\n",
    "baseline_dict = pd.Series(df_seq.ipc.values,index=df_seq.pair_str).to_dict() \n",
    "\n",
    "def norm_ipc_row(row):\n",
    "    return row['ipc'] / baseline_dict[row['pair_str']]\n",
    "\n",
    "df_intra['norm_ipc'] = df_intra.apply(lambda row: norm_ipc_row(row), axis=1)\n",
    "df_inter['norm_ipc'] = df_inter.apply(lambda row: norm_ipc_row(row), axis=1)\n",
    "\n",
    "df_intra['avg_dram_bw'] = df_intra['dram_bw'].transform(hi.avg_array)\n",
    "df_inter['avg_dram_bw'] = df_inter['dram_bw'].transform(hi.avg_array)\n",
    "\n",
    "df_intra['dram_idleness'] = np.divide(df_intra['mem_idle'].transform(hi.avg_array),\n",
    "                                      df_intra['total_cmd'].transform(hi.avg_array))\n",
    "df_inter['dram_idleness'] = np.divide(df_inter['mem_idle'].transform(hi.avg_array),\n",
    "                                      df_inter['total_cmd'].transform(hi.avg_array))\n",
    "\n",
    "# decompose gpgpu-sim configs\n",
    "hi.process_config_column('intra', 'l2', df=df_intra)\n",
    "hi.process_config_column('inter', 'l2', df=df_inter)\n",
    "\n",
    "print(df_intra.columns)\n"
   ]
  },
  {
   "cell_type": "code",
   "execution_count": 46,
   "metadata": {},
   "outputs": [],
   "source": [
    "def print_intra(df, benchmark):\n",
    "    filename = '{0}-{1}.pdf'.format(benchmark, 'intra')\n",
    "    filename = os.path.join('plots', filename)\n",
    "    with PdfPages(filename) as pdf:\n",
    "        hi.plot_page_intra(df, 'norm_ipc', benchmark, pdf)\n",
    "        hi.plot_page_intra(df, 'avg_dram_bw', benchmark, pdf)\n",
    "        hi.plot_page_intra(df, 'dram_idleness', benchmark, pdf)\n",
    "        hi.plot_page_intra(df, 'l2_miss_rate', benchmark, pdf)\n",
    "        hi.plot_page_intra(df, 'l2_BW', benchmark, pdf)\n",
    "        hi.plot_page_intra(df, 'l2_total_accesses', benchmark, pdf)\n",
    "        hi.plot_page_intra(df, 'l1D_miss_rate', benchmark, pdf)\n",
    "        hi.plot_page_intra(df, 'avg_mem_lat', benchmark, pdf)\n",
    "\n",
    "def print_intra_inter(df_intra, df_inter, benchmark):\n",
    "    filename = '{0}-{1}.pdf'.format(benchmark, 'both')\n",
    "    filename = os.path.join('plots', filename)\n",
    "    with PdfPages(filename) as pdf:\n",
    "        hi.plot_page_intra_inter(df_intra, df_inter, 'norm_ipc', benchmark, pdf)\n",
    " "
   ]
  },
  {
   "cell_type": "code",
   "execution_count": 19,
   "metadata": {
    "scrolled": false
   },
   "outputs": [],
   "source": [
    "print_intra_inter(df_intra, df_inter, 'parb_stencil-0')"
   ]
  },
  {
   "cell_type": "code",
   "execution_count": 20,
   "metadata": {},
   "outputs": [],
   "source": [
    "print_intra_inter(df_intra, df_inter, 'parb_cutcp-0')"
   ]
  },
  {
   "cell_type": "markdown",
   "metadata": {},
   "source": [
    "## Intra SM Only"
   ]
  },
  {
   "cell_type": "code",
   "execution_count": 42,
   "metadata": {},
   "outputs": [],
   "source": [
    "bench_list = list(df_intra['pair_str'].unique())\n",
    "bench_list.sort()"
   ]
  },
  {
   "cell_type": "code",
   "execution_count": 35,
   "metadata": {},
   "outputs": [
    {
     "name": "stdout",
     "output_type": "stream",
     "text": [
      "cut_sgemm-1\n",
      "cut_wmma-1\n",
      "parb_stencil-0\n",
      "parb_spmv-0\n",
      "cut_sgemm-0\n",
      "parb_cutcp-0\n",
      "parb_lbm-0\n",
      "cut_wmma-0\n"
     ]
    }
   ],
   "source": [
    "for bench in bench_list:\n",
    "    print(bench)\n",
    "    print_intra(df_intra, bench)"
   ]
  },
  {
   "cell_type": "code",
   "execution_count": 51,
   "metadata": {},
   "outputs": [],
   "source": [
    "fig_tot, axs = plt.subplots(2, 4, figsize=(40, 30))   \n",
    "axs = axs.flat\n",
    "\n",
    "for ax, bench in zip(axs, bench_list):\n",
    "    _df = df_intra[df_intra['pair_str'] == bench]\n",
    "    \n",
    "    hi.plot_heatmap(_df, x_key='intra', y_key='l2', z_key='norm_ipc', title=bench, axis=ax, scale=1.2)\n",
    "\n",
    "\n",
    "fig_tot.suptitle('Intra, Normalized IPC', fontsize=18)\n",
    "fig_tot.savefig('plots/total.pdf')\n",
    "plt.close()\n",
    "\n",
    "\n"
   ]
  },
  {
   "cell_type": "code",
   "execution_count": null,
   "metadata": {},
   "outputs": [],
   "source": []
  },
  {
   "cell_type": "code",
   "execution_count": null,
   "metadata": {},
   "outputs": [],
   "source": []
  }
 ],
 "metadata": {
  "kernelspec": {
   "display_name": "Python 3",
   "language": "python",
   "name": "python3"
  },
  "language_info": {
   "codemirror_mode": {
    "name": "ipython",
    "version": 3
   },
   "file_extension": ".py",
   "mimetype": "text/x-python",
   "name": "python",
   "nbconvert_exporter": "python",
   "pygments_lexer": "ipython3",
   "version": "3.6.8"
  }
 },
 "nbformat": 4,
 "nbformat_minor": 2
}
