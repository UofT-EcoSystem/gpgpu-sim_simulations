{
 "cells": [
  {
   "cell_type": "code",
   "execution_count": 136,
   "metadata": {},
   "outputs": [
    {
     "name": "stdout",
     "output_type": "stream",
     "text": [
      "The autoreload extension is already loaded. To reload it, use:\n",
      "  %reload_ext autoreload\n"
     ]
    }
   ],
   "source": [
    "%load_ext autoreload\n",
    "%autoreload 2\n",
    "\n",
    "import numpy as np\n",
    "import matplotlib.pyplot as plt\n",
    "import matplotlib as mpl\n",
    "import pandas as pd\n",
    "from tabulate import tabulate\n",
    "import re\n",
    "import seaborn as sns\n",
    "from matplotlib.backends.backend_pdf import PdfPages\n",
    "import os\n",
    "import sys\n",
    "\n",
    "module_path = '/home/serinatan/project/gpgpu-sim_simulations/util/job_launching/results'\n",
    "if module_path not in sys.path:\n",
    "    sys.path.append(module_path)\n",
    "    \n",
    "import helper.help_iso as hi\n",
    "import helper.format as fmt\n",
    "\n",
    "\n",
    "bench_dict = {'cut_sgemm-0':0, 'cut_sgemm-1':0, 'cut_wmma-0': 0, 'cut_wmma-1': 0, \n",
    "         'parb_stencil-0': 1, 'parb_sgemm-0': 0,\n",
    "         'parb_lbm-0': 1, 'parb_spmv-0': 1, 'parb_cutcp-0': 0}\n",
    "\n",
    "mpl.style.use('seaborn-paper')\n",
    "\n",
    "\n",
    "\n"
   ]
  },
  {
   "cell_type": "markdown",
   "metadata": {},
   "source": [
    "## Read CSVs"
   ]
  },
  {
   "cell_type": "code",
   "execution_count": 146,
   "metadata": {},
   "outputs": [
    {
     "name": "stdout",
     "output_type": "stream",
     "text": [
      "Index(['pair_str', 'config', 'gpusim_version', 'jobId', 'grid_x', 'grid_y',\n",
      "       'grid_z', 'block_x', 'block_y', 'block_z', 'ctas/SM', 'runtime', 'ipc',\n",
      "       'instructions', 'avg_mem_lat', 'avg_core_to_l2', 'avg_l2_to_core',\n",
      "       'avg_mrq_latency', 'stall_core_ldst', 'stall_icnt_to_l2', 'l2_BW',\n",
      "       'l2_rshr_entry_fail', 'l2_rshr_merge_fail', 'stall_l2_to_icnt',\n",
      "       'l1D_miss_rate', 'l2_miss_rate', 'l2_total_accesses', 'packet_lat_out',\n",
      "       'network_lat_out', 'inject_out', 'accepted_out', 'packet_lat_in',\n",
      "       'network_lat_in', 'inject_in', 'accepted_in',\n",
      "       'mem_subpartition_parallism', 'mem_subpartition_parallism_util',\n",
      "       'L2_reservation_fail', 'empty_warp', 'stall_warp', 'idle_warp',\n",
      "       'scoreboard_warp', 'regs', 'smem', 'dram_eff', 'dram_bw',\n",
      "       'row_buffer_locality', 'mrqq', 'total_cmd', 'wasted_col', 'wasted_row',\n",
      "       'mem_idle', 'CCDLc', 'WTRc', 'RTWc', 'RCDc', 'RCDWRc'],\n",
      "      dtype='object')\n"
     ]
    }
   ],
   "source": [
    "df_seq = pd.read_csv('seq.csv')\n",
    "df_intra = pd.read_csv('intra.csv')\n",
    "df_inter = pd.read_csv('inter.csv')\n",
    "print(df_intra.columns)"
   ]
  },
  {
   "cell_type": "code",
   "execution_count": 153,
   "metadata": {},
   "outputs": [],
   "source": [
    "# scale all IPC to baseline\n",
    "baseline_ipc = pd.Series(df_seq.ipc.values,index=df_seq.pair_str).to_dict() \n",
    "baseline_runtime = pd.Series(df_seq.runtime.values,index=df_seq.pair_str).to_dict()\n",
    "\n",
    "def norm_ipc_row(row, ipc='ipc', bench='pair_str'):\n",
    "    return row[ipc] / baseline_ipc[row[bench]]\n",
    "\n",
    "def norm_runtime_row(row, runtime='runtime', bench='pair_str'):\n",
    "    return baseline_runtime[row[bench]] / row[runtime]"
   ]
  },
  {
   "cell_type": "markdown",
   "metadata": {},
   "source": [
    "## Process columns"
   ]
  },
  {
   "cell_type": "code",
   "execution_count": 154,
   "metadata": {},
   "outputs": [
    {
     "name": "stdout",
     "output_type": "stream",
     "text": [
      "Index(['pair_str', 'config', 'gpusim_version', 'jobId', 'grid_x', 'grid_y',\n",
      "       'grid_z', 'block_x', 'block_y', 'block_z', 'ctas/SM', 'runtime', 'ipc',\n",
      "       'instructions', 'avg_mem_lat', 'avg_core_to_l2', 'avg_l2_to_core',\n",
      "       'avg_mrq_latency', 'stall_core_ldst', 'stall_icnt_to_l2', 'l2_BW',\n",
      "       'l2_rshr_entry_fail', 'l2_rshr_merge_fail', 'stall_l2_to_icnt',\n",
      "       'l1D_miss_rate', 'l2_miss_rate', 'l2_total_accesses', 'packet_lat_out',\n",
      "       'network_lat_out', 'inject_out', 'accepted_out', 'packet_lat_in',\n",
      "       'network_lat_in', 'inject_in', 'accepted_in',\n",
      "       'mem_subpartition_parallism', 'mem_subpartition_parallism_util',\n",
      "       'L2_reservation_fail', 'empty_warp', 'stall_warp', 'idle_warp',\n",
      "       'scoreboard_warp', 'regs', 'smem', 'dram_eff', 'dram_bw',\n",
      "       'row_buffer_locality', 'mrqq', 'total_cmd', 'wasted_col', 'wasted_row',\n",
      "       'mem_idle', 'CCDLc', 'WTRc', 'RTWc', 'RCDc', 'RCDWRc', 'norm_ipc',\n",
      "       'intra', 'l2', 'avg_dram_bw', 'dram_busy', 'comp_busy', 'cta_ratio',\n",
      "       'thread_ratio', 'smem_ratio', 'reg_ratio', 'usage'],\n",
      "      dtype='object')\n"
     ]
    }
   ],
   "source": [
    "df_intra['norm_ipc'] = df_intra.apply(lambda row: norm_ipc_row(row), axis=1)\n",
    "df_inter['norm_ipc'] = df_inter.apply(lambda row: norm_ipc_row(row), axis=1)\n",
    "\n",
    "# decompose gpgpu-sim configs\n",
    "hi.process_config_column('intra', 'l2', df=df_intra)\n",
    "hi.process_config_column('inter', 'l2', df=df_inter)\n",
    "\n",
    "df_intra['avg_dram_bw'] = df_intra['dram_bw'].transform(hi.avg_array)\n",
    "df_inter['avg_dram_bw'] = df_inter['dram_bw'].transform(hi.avg_array)\n",
    "\n",
    "df_intra['dram_busy'] = 1 - np.divide(df_intra['mem_idle'].transform(hi.avg_array),\n",
    "                                      df_intra['total_cmd'].transform(hi.avg_array))\n",
    "df_inter['dram_busy'] = 1 - np.divide(df_inter['mem_idle'].transform(hi.avg_array),\n",
    "                                      df_inter['total_cmd'].transform(hi.avg_array))\n",
    "\n",
    "idle_sum = df_intra[['empty_warp', 'idle_warp']].sum(axis=1)\n",
    "df_intra['comp_busy'] = 1 - idle_sum / (idle_sum + df_intra[['stall_warp', 'scoreboard_warp']].sum(axis=1))\n",
    "\n",
    "idle_sum = df_inter[['empty_warp', 'idle_warp']].sum(axis=1)\n",
    "df_inter['comp_busy'] = 1 - idle_sum / (idle_sum + df_inter[['stall_warp', 'scoreboard_warp']].sum(axis=1))\n",
    "\n",
    "max_cta_volta = 32\n",
    "max_thread_volta = 2048\n",
    "max_smem = 96*1024\n",
    "max_register = 64*1024\n",
    "\n",
    "df_intra['cta_ratio'] = df_intra['intra'] / max_cta_volta\n",
    "threads = df_intra['intra'] * df_intra['block_x'] * df_intra['block_y'] * df_intra['block_z']\n",
    "df_intra['thread_ratio'] = threads / max_thread_volta\n",
    "df_intra['smem_ratio'] = df_intra['intra'] * df_intra['smem'] / max_smem\n",
    "df_intra['reg_ratio'] = threads * df_intra['regs'] / max_register\n",
    "# df_intra['dominant_resc'] = df_intra[['cta_ratio', 'thread_ratio', 'smem_ratio', 'reg_ratio']].max(axis=1)\n",
    "\n",
    "def pow_2(*resc_list):\n",
    "    done_first = False\n",
    "    for r in resc_list:\n",
    "        if done_first:\n",
    "            usage = usage + df_intra[r] ** 2\n",
    "        else:\n",
    "            done_first = True\n",
    "            usage = df_intra[r] ** 2\n",
    "    return usage\n",
    "            \n",
    "df_intra['usage'] = pow_2('cta_ratio', 'thread_ratio', 'smem_ratio', 'reg_ratio', 'l2', 'dram_busy', 'comp_busy')\n",
    "\n",
    "print(df_intra.columns)"
   ]
  },
  {
   "cell_type": "code",
   "execution_count": 129,
   "metadata": {},
   "outputs": [],
   "source": [
    "def print_intra(df, benchmark):\n",
    "    filename = '{0}-{1}.pdf'.format(benchmark, 'intra')\n",
    "    filename = os.path.join('plots', filename)\n",
    "    with PdfPages(filename) as pdf:\n",
    "        hi.plot_page_intra(df, 'norm_ipc', benchmark, pdf)\n",
    "        hi.plot_page_intra(df, 'avg_dram_bw', benchmark, pdf)\n",
    "        hi.plot_page_intra(df, 'dram_busy', benchmark, pdf)\n",
    "        hi.plot_page_intra(df, 'l2_miss_rate', benchmark, pdf)\n",
    "        hi.plot_page_intra(df, 'l2_BW', benchmark, pdf)\n",
    "        hi.plot_page_intra(df, 'l2_total_accesses', benchmark, pdf)\n",
    "        hi.plot_page_intra(df, 'l1D_miss_rate', benchmark, pdf)\n",
    "        hi.plot_page_intra(df, 'avg_mem_lat', benchmark, pdf)\n",
    "\n",
    "def print_intra_inter(df_intra, df_inter, benchmark):\n",
    "    filename = '{0}-{1}.pdf'.format(benchmark, 'both')\n",
    "    filename = os.path.join('plots', filename)\n",
    "    with PdfPages(filename) as pdf:\n",
    "        hi.plot_page_intra_inter(df_intra, df_inter, 'norm_ipc', benchmark, pdf)\n",
    " "
   ]
  },
  {
   "cell_type": "code",
   "execution_count": 78,
   "metadata": {
    "scrolled": false
   },
   "outputs": [],
   "source": [
    "print_intra_inter(df_intra, df_inter, 'parb_stencil-0')"
   ]
  },
  {
   "cell_type": "code",
   "execution_count": 79,
   "metadata": {},
   "outputs": [],
   "source": [
    "print_intra_inter(df_intra, df_inter, 'parb_cutcp-0')"
   ]
  },
  {
   "cell_type": "markdown",
   "metadata": {},
   "source": [
    "## Intra SM Only"
   ]
  },
  {
   "cell_type": "code",
   "execution_count": 42,
   "metadata": {},
   "outputs": [],
   "source": [
    "bench_list = list(df_intra['pair_str'].unique())\n",
    "bench_list.sort()"
   ]
  },
  {
   "cell_type": "code",
   "execution_count": 35,
   "metadata": {},
   "outputs": [
    {
     "name": "stdout",
     "output_type": "stream",
     "text": [
      "cut_sgemm-1\n",
      "cut_wmma-1\n",
      "parb_stencil-0\n",
      "parb_spmv-0\n",
      "cut_sgemm-0\n",
      "parb_cutcp-0\n",
      "parb_lbm-0\n",
      "cut_wmma-0\n"
     ]
    }
   ],
   "source": [
    "for bench in bench_list:\n",
    "    print(bench)\n",
    "    print_intra(df_intra, bench)"
   ]
  },
  {
   "cell_type": "code",
   "execution_count": 51,
   "metadata": {},
   "outputs": [],
   "source": [
    "fig_tot, axs = plt.subplots(2, 4, figsize=(40, 30))   \n",
    "axs = axs.flat\n",
    "\n",
    "for ax, bench in zip(axs, bench_list):\n",
    "    _df = df_intra[df_intra['pair_str'] == bench]\n",
    "    \n",
    "    hi.plot_heatmap(_df, x_key='intra', y_key='l2', z_key='norm_ipc', title=bench, axis=ax, scale=1.2)\n",
    "\n",
    "\n",
    "fig_tot.suptitle('Intra, Normalized IPC', fontsize=18)\n",
    "fig_tot.savefig('plots/total.pdf')\n",
    "plt.close()\n",
    "\n",
    "\n"
   ]
  },
  {
   "cell_type": "code",
   "execution_count": 137,
   "metadata": {
    "scrolled": true
   },
   "outputs": [
    {
     "ename": "KeyError",
     "evalue": "'norm_ipc'",
     "output_type": "error",
     "traceback": [
      "\u001b[0;31m---------------------------------------------------------------------------\u001b[0m",
      "\u001b[0;31mKeyError\u001b[0m                                  Traceback (most recent call last)",
      "\u001b[0;32m~/project/gpgpu-sim_simulations/util/job_launching/env/lib/python3.6/site-packages/pandas/core/indexes/base.py\u001b[0m in \u001b[0;36mget_loc\u001b[0;34m(self, key, method, tolerance)\u001b[0m\n\u001b[1;32m   2601\u001b[0m             \u001b[0;32mtry\u001b[0m\u001b[0;34m:\u001b[0m\u001b[0;34m\u001b[0m\u001b[0;34m\u001b[0m\u001b[0m\n\u001b[0;32m-> 2602\u001b[0;31m                 \u001b[0;32mreturn\u001b[0m \u001b[0mself\u001b[0m\u001b[0;34m.\u001b[0m\u001b[0m_engine\u001b[0m\u001b[0;34m.\u001b[0m\u001b[0mget_loc\u001b[0m\u001b[0;34m(\u001b[0m\u001b[0mkey\u001b[0m\u001b[0;34m)\u001b[0m\u001b[0;34m\u001b[0m\u001b[0;34m\u001b[0m\u001b[0m\n\u001b[0m\u001b[1;32m   2603\u001b[0m             \u001b[0;32mexcept\u001b[0m \u001b[0mKeyError\u001b[0m\u001b[0;34m:\u001b[0m\u001b[0;34m\u001b[0m\u001b[0;34m\u001b[0m\u001b[0m\n",
      "\u001b[0;32mpandas/_libs/index.pyx\u001b[0m in \u001b[0;36mpandas._libs.index.IndexEngine.get_loc\u001b[0;34m()\u001b[0m\n",
      "\u001b[0;32mpandas/_libs/index.pyx\u001b[0m in \u001b[0;36mpandas._libs.index.IndexEngine.get_loc\u001b[0;34m()\u001b[0m\n",
      "\u001b[0;32mpandas/_libs/hashtable_class_helper.pxi\u001b[0m in \u001b[0;36mpandas._libs.hashtable.PyObjectHashTable.get_item\u001b[0;34m()\u001b[0m\n",
      "\u001b[0;32mpandas/_libs/hashtable_class_helper.pxi\u001b[0m in \u001b[0;36mpandas._libs.hashtable.PyObjectHashTable.get_item\u001b[0;34m()\u001b[0m\n",
      "\u001b[0;31mKeyError\u001b[0m: 'norm_ipc'",
      "\nDuring handling of the above exception, another exception occurred:\n",
      "\u001b[0;31mKeyError\u001b[0m                                  Traceback (most recent call last)",
      "\u001b[0;32m<ipython-input-137-96498b47df8e>\u001b[0m in \u001b[0;36m<module>\u001b[0;34m\u001b[0m\n\u001b[0;32m----> 1\u001b[0;31m \u001b[0mdf_intra\u001b[0m\u001b[0;34m[\u001b[0m\u001b[0;34m'perfdollar'\u001b[0m\u001b[0;34m]\u001b[0m \u001b[0;34m=\u001b[0m \u001b[0mdf_intra\u001b[0m\u001b[0;34m[\u001b[0m\u001b[0;34m'norm_ipc'\u001b[0m\u001b[0;34m]\u001b[0m \u001b[0;34m/\u001b[0m \u001b[0mdf_intra\u001b[0m\u001b[0;34m[\u001b[0m\u001b[0;34m'usage'\u001b[0m\u001b[0;34m]\u001b[0m\u001b[0;34m\u001b[0m\u001b[0;34m\u001b[0m\u001b[0m\n\u001b[0m\u001b[1;32m      2\u001b[0m cols = ['pair_str', 'perfdollar', 'intra', 'norm_ipc', 'usage', 'l2', 'cta_ratio', \n\u001b[1;32m      3\u001b[0m         'thread_ratio', 'smem_ratio', 'reg_ratio', 'comp_busy', 'dram_busy']\n\u001b[1;32m      4\u001b[0m \u001b[0msort\u001b[0m \u001b[0;34m=\u001b[0m \u001b[0mdf_intra\u001b[0m\u001b[0;34m[\u001b[0m\u001b[0mcols\u001b[0m\u001b[0;34m]\u001b[0m\u001b[0;34m.\u001b[0m\u001b[0msort_values\u001b[0m\u001b[0;34m(\u001b[0m\u001b[0;34m[\u001b[0m\u001b[0;34m'pair_str'\u001b[0m\u001b[0;34m,\u001b[0m \u001b[0;34m'perfdollar'\u001b[0m\u001b[0;34m]\u001b[0m\u001b[0;34m,\u001b[0m \u001b[0mascending\u001b[0m\u001b[0;34m=\u001b[0m\u001b[0;34m[\u001b[0m\u001b[0;32mTrue\u001b[0m\u001b[0;34m,\u001b[0m \u001b[0;32mTrue\u001b[0m\u001b[0;34m]\u001b[0m\u001b[0;34m)\u001b[0m\u001b[0;34m\u001b[0m\u001b[0;34m\u001b[0m\u001b[0m\n\u001b[1;32m      5\u001b[0m \u001b[0msort\u001b[0m \u001b[0;34m=\u001b[0m \u001b[0msort\u001b[0m\u001b[0;34m[\u001b[0m\u001b[0msort\u001b[0m\u001b[0;34m[\u001b[0m\u001b[0;34m'norm_ipc'\u001b[0m\u001b[0;34m]\u001b[0m \u001b[0;34m>\u001b[0m \u001b[0;36m0.8\u001b[0m\u001b[0;34m]\u001b[0m\u001b[0;34m\u001b[0m\u001b[0;34m\u001b[0m\u001b[0m\n",
      "\u001b[0;32m~/project/gpgpu-sim_simulations/util/job_launching/env/lib/python3.6/site-packages/pandas/core/frame.py\u001b[0m in \u001b[0;36m__getitem__\u001b[0;34m(self, key)\u001b[0m\n\u001b[1;32m   2915\u001b[0m             \u001b[0;32mif\u001b[0m \u001b[0mself\u001b[0m\u001b[0;34m.\u001b[0m\u001b[0mcolumns\u001b[0m\u001b[0;34m.\u001b[0m\u001b[0mnlevels\u001b[0m \u001b[0;34m>\u001b[0m \u001b[0;36m1\u001b[0m\u001b[0;34m:\u001b[0m\u001b[0;34m\u001b[0m\u001b[0;34m\u001b[0m\u001b[0m\n\u001b[1;32m   2916\u001b[0m                 \u001b[0;32mreturn\u001b[0m \u001b[0mself\u001b[0m\u001b[0;34m.\u001b[0m\u001b[0m_getitem_multilevel\u001b[0m\u001b[0;34m(\u001b[0m\u001b[0mkey\u001b[0m\u001b[0;34m)\u001b[0m\u001b[0;34m\u001b[0m\u001b[0;34m\u001b[0m\u001b[0m\n\u001b[0;32m-> 2917\u001b[0;31m             \u001b[0mindexer\u001b[0m \u001b[0;34m=\u001b[0m \u001b[0mself\u001b[0m\u001b[0;34m.\u001b[0m\u001b[0mcolumns\u001b[0m\u001b[0;34m.\u001b[0m\u001b[0mget_loc\u001b[0m\u001b[0;34m(\u001b[0m\u001b[0mkey\u001b[0m\u001b[0;34m)\u001b[0m\u001b[0;34m\u001b[0m\u001b[0;34m\u001b[0m\u001b[0m\n\u001b[0m\u001b[1;32m   2918\u001b[0m             \u001b[0;32mif\u001b[0m \u001b[0mis_integer\u001b[0m\u001b[0;34m(\u001b[0m\u001b[0mindexer\u001b[0m\u001b[0;34m)\u001b[0m\u001b[0;34m:\u001b[0m\u001b[0;34m\u001b[0m\u001b[0;34m\u001b[0m\u001b[0m\n\u001b[1;32m   2919\u001b[0m                 \u001b[0mindexer\u001b[0m \u001b[0;34m=\u001b[0m \u001b[0;34m[\u001b[0m\u001b[0mindexer\u001b[0m\u001b[0;34m]\u001b[0m\u001b[0;34m\u001b[0m\u001b[0;34m\u001b[0m\u001b[0m\n",
      "\u001b[0;32m~/project/gpgpu-sim_simulations/util/job_launching/env/lib/python3.6/site-packages/pandas/core/indexes/base.py\u001b[0m in \u001b[0;36mget_loc\u001b[0;34m(self, key, method, tolerance)\u001b[0m\n\u001b[1;32m   2602\u001b[0m                 \u001b[0;32mreturn\u001b[0m \u001b[0mself\u001b[0m\u001b[0;34m.\u001b[0m\u001b[0m_engine\u001b[0m\u001b[0;34m.\u001b[0m\u001b[0mget_loc\u001b[0m\u001b[0;34m(\u001b[0m\u001b[0mkey\u001b[0m\u001b[0;34m)\u001b[0m\u001b[0;34m\u001b[0m\u001b[0;34m\u001b[0m\u001b[0m\n\u001b[1;32m   2603\u001b[0m             \u001b[0;32mexcept\u001b[0m \u001b[0mKeyError\u001b[0m\u001b[0;34m:\u001b[0m\u001b[0;34m\u001b[0m\u001b[0;34m\u001b[0m\u001b[0m\n\u001b[0;32m-> 2604\u001b[0;31m                 \u001b[0;32mreturn\u001b[0m \u001b[0mself\u001b[0m\u001b[0;34m.\u001b[0m\u001b[0m_engine\u001b[0m\u001b[0;34m.\u001b[0m\u001b[0mget_loc\u001b[0m\u001b[0;34m(\u001b[0m\u001b[0mself\u001b[0m\u001b[0;34m.\u001b[0m\u001b[0m_maybe_cast_indexer\u001b[0m\u001b[0;34m(\u001b[0m\u001b[0mkey\u001b[0m\u001b[0;34m)\u001b[0m\u001b[0;34m)\u001b[0m\u001b[0;34m\u001b[0m\u001b[0;34m\u001b[0m\u001b[0m\n\u001b[0m\u001b[1;32m   2605\u001b[0m         \u001b[0mindexer\u001b[0m \u001b[0;34m=\u001b[0m \u001b[0mself\u001b[0m\u001b[0;34m.\u001b[0m\u001b[0mget_indexer\u001b[0m\u001b[0;34m(\u001b[0m\u001b[0;34m[\u001b[0m\u001b[0mkey\u001b[0m\u001b[0;34m]\u001b[0m\u001b[0;34m,\u001b[0m \u001b[0mmethod\u001b[0m\u001b[0;34m=\u001b[0m\u001b[0mmethod\u001b[0m\u001b[0;34m,\u001b[0m \u001b[0mtolerance\u001b[0m\u001b[0;34m=\u001b[0m\u001b[0mtolerance\u001b[0m\u001b[0;34m)\u001b[0m\u001b[0;34m\u001b[0m\u001b[0;34m\u001b[0m\u001b[0m\n\u001b[1;32m   2606\u001b[0m         \u001b[0;32mif\u001b[0m \u001b[0mindexer\u001b[0m\u001b[0;34m.\u001b[0m\u001b[0mndim\u001b[0m \u001b[0;34m>\u001b[0m \u001b[0;36m1\u001b[0m \u001b[0;32mor\u001b[0m \u001b[0mindexer\u001b[0m\u001b[0;34m.\u001b[0m\u001b[0msize\u001b[0m \u001b[0;34m>\u001b[0m \u001b[0;36m1\u001b[0m\u001b[0;34m:\u001b[0m\u001b[0;34m\u001b[0m\u001b[0;34m\u001b[0m\u001b[0m\n",
      "\u001b[0;32mpandas/_libs/index.pyx\u001b[0m in \u001b[0;36mpandas._libs.index.IndexEngine.get_loc\u001b[0;34m()\u001b[0m\n",
      "\u001b[0;32mpandas/_libs/index.pyx\u001b[0m in \u001b[0;36mpandas._libs.index.IndexEngine.get_loc\u001b[0;34m()\u001b[0m\n",
      "\u001b[0;32mpandas/_libs/hashtable_class_helper.pxi\u001b[0m in \u001b[0;36mpandas._libs.hashtable.PyObjectHashTable.get_item\u001b[0;34m()\u001b[0m\n",
      "\u001b[0;32mpandas/_libs/hashtable_class_helper.pxi\u001b[0m in \u001b[0;36mpandas._libs.hashtable.PyObjectHashTable.get_item\u001b[0;34m()\u001b[0m\n",
      "\u001b[0;31mKeyError\u001b[0m: 'norm_ipc'"
     ]
    }
   ],
   "source": [
    "df_intra['perfdollar'] = df_intra['norm_ipc'] / df_intra['usage']\n",
    "cols = ['pair_str', 'perfdollar', 'intra', 'norm_ipc', 'usage', 'l2', 'cta_ratio', \n",
    "        'thread_ratio', 'smem_ratio', 'reg_ratio', 'comp_busy', 'dram_busy']\n",
    "sort = df_intra[cols].sort_values(['pair_str', 'perfdollar'], ascending=[True, True])\n",
    "sort = sort[sort['norm_ipc'] > 0.8]\n",
    "\n",
    "best_df = []\n",
    "for bench in bench_list:\n",
    "    idx = df_intra[(df_intra['norm_ipc'] > 0.8) & (df_intra['pair_str'] == bench)]['perfdollar'].idxmax()\n",
    "    best_df.append(df_intra.iloc[idx])\n",
    "    \n",
    "best_df = pd.concat(best_df, axis=1).T[cols]\n",
    "\n",
    "# formatting\n",
    "pd.options.display.float_format = '{:,}'.format\n",
    "    \n",
    "best_df.style.set_table_styles(fmt.table_style).hide_index()\\\n",
    "            .format({'norm_ipc': \"{:.4f}\", 'dominant_resc': '{:.2f}', \n",
    "                     \n",
    "                    })\\\n",
    "\n",
    "# print(best_df)"
   ]
  },
  {
   "cell_type": "markdown",
   "metadata": {},
   "source": [
    "## Shared"
   ]
  },
  {
   "cell_type": "code",
   "execution_count": 156,
   "metadata": {
    "scrolled": false
   },
   "outputs": [
    {
     "name": "stdout",
     "output_type": "stream",
     "text": [
      "Index(['pair_str', 'config', 'gpusim_version', 'jobId', '1_grid_x', '1_grid_y',\n",
      "       '1_grid_z', '1_block_x', '1_block_y', '1_block_z', '1_ctas/SM',\n",
      "       '1_runtime', '1_instructions', '1_avg_mem_lat', '1_avg_core_to_l2',\n",
      "       '1_avg_l2_to_core', '1_avg_mrq_latency', '2_grid_x', '2_grid_y',\n",
      "       '2_grid_z', '2_block_x', '2_block_y', '2_block_z', '2_ctas/SM',\n",
      "       '2_runtime', '2_instructions', '2_avg_mem_lat', '2_avg_core_to_l2',\n",
      "       '2_avg_l2_to_core', '2_avg_mrq_latency', 'stall_icnt_to_l2',\n",
      "       'stall_l2_to_icnt', 'stall_core_ldst', 'l1D_miss_rate', 'l2_miss_rate',\n",
      "       'runtime', 'l2_rshr_entry_fail', 'l2_rshr_merge_fail', 'dram_bw'],\n",
      "      dtype='object')\n"
     ]
    },
    {
     "data": {
      "text/html": [
       "<style  type=\"text/css\" >\n",
       "    #T_9cf46988_106c_11ea_926a_107b4493f33b tr:nth-of-type(odd) {\n",
       "          background: #eee;\n",
       "    }    #T_9cf46988_106c_11ea_926a_107b4493f33b tr:nth-of-type(even) {\n",
       "          background: white;\n",
       "    }    #T_9cf46988_106c_11ea_926a_107b4493f33b th {\n",
       "          background: #606060;\n",
       "          color: white;\n",
       "          font-family: verdana;\n",
       "          font-size: 90%;\n",
       "    }    #T_9cf46988_106c_11ea_926a_107b4493f33b td {\n",
       "          font-family: verdana;\n",
       "          font-size: 90%;\n",
       "          font-weight: bold;\n",
       "    }    #T_9cf46988_106c_11ea_926a_107b4493f33b tr:hover {\n",
       "          background-color: #ffffcc;\n",
       "    }</style><table id=\"T_9cf46988_106c_11ea_926a_107b4493f33b\" ><thead>    <tr>        <th class=\"col_heading level0 col0\" >bench_1</th>        <th class=\"col_heading level0 col1\" >bench_2</th>        <th class=\"col_heading level0 col2\" >intra</th>        <th class=\"col_heading level0 col3\" >intra_2</th>        <th class=\"col_heading level0 col4\" >l2</th>        <th class=\"col_heading level0 col5\" >l2_2</th>        <th class=\"col_heading level0 col6\" >slowdown_1</th>        <th class=\"col_heading level0 col7\" >slowdown_2</th>    </tr></thead><tbody>\n",
       "                <tr>\n",
       "                                <td id=\"T_9cf46988_106c_11ea_926a_107b4493f33brow0_col0\" class=\"data row0 col0\" >cut_wmma-0</td>\n",
       "                        <td id=\"T_9cf46988_106c_11ea_926a_107b4493f33brow0_col1\" class=\"data row0 col1\" >parb_lbm-0</td>\n",
       "                        <td id=\"T_9cf46988_106c_11ea_926a_107b4493f33brow0_col2\" class=\"data row0 col2\" >2</td>\n",
       "                        <td id=\"T_9cf46988_106c_11ea_926a_107b4493f33brow0_col3\" class=\"data row0 col3\" >3</td>\n",
       "                        <td id=\"T_9cf46988_106c_11ea_926a_107b4493f33brow0_col4\" class=\"data row0 col4\" >0.5</td>\n",
       "                        <td id=\"T_9cf46988_106c_11ea_926a_107b4493f33brow0_col5\" class=\"data row0 col5\" >0.5</td>\n",
       "                        <td id=\"T_9cf46988_106c_11ea_926a_107b4493f33brow0_col6\" class=\"data row0 col6\" >0.24173</td>\n",
       "                        <td id=\"T_9cf46988_106c_11ea_926a_107b4493f33brow0_col7\" class=\"data row0 col7\" >0.849939</td>\n",
       "            </tr>\n",
       "            <tr>\n",
       "                                <td id=\"T_9cf46988_106c_11ea_926a_107b4493f33brow1_col0\" class=\"data row1 col0\" >cut_wmma-0</td>\n",
       "                        <td id=\"T_9cf46988_106c_11ea_926a_107b4493f33brow1_col1\" class=\"data row1 col1\" >parb_stencil-0</td>\n",
       "                        <td id=\"T_9cf46988_106c_11ea_926a_107b4493f33brow1_col2\" class=\"data row1 col2\" >2</td>\n",
       "                        <td id=\"T_9cf46988_106c_11ea_926a_107b4493f33brow1_col3\" class=\"data row1 col3\" >3</td>\n",
       "                        <td id=\"T_9cf46988_106c_11ea_926a_107b4493f33brow1_col4\" class=\"data row1 col4\" >0.5</td>\n",
       "                        <td id=\"T_9cf46988_106c_11ea_926a_107b4493f33brow1_col5\" class=\"data row1 col5\" >0.5</td>\n",
       "                        <td id=\"T_9cf46988_106c_11ea_926a_107b4493f33brow1_col6\" class=\"data row1 col6\" >0.798147</td>\n",
       "                        <td id=\"T_9cf46988_106c_11ea_926a_107b4493f33brow1_col7\" class=\"data row1 col7\" >0.440257</td>\n",
       "            </tr>\n",
       "            <tr>\n",
       "                                <td id=\"T_9cf46988_106c_11ea_926a_107b4493f33brow2_col0\" class=\"data row2 col0\" >cut_sgemm-1</td>\n",
       "                        <td id=\"T_9cf46988_106c_11ea_926a_107b4493f33brow2_col1\" class=\"data row2 col1\" >parb_spmv-0</td>\n",
       "                        <td id=\"T_9cf46988_106c_11ea_926a_107b4493f33brow2_col2\" class=\"data row2 col2\" >1</td>\n",
       "                        <td id=\"T_9cf46988_106c_11ea_926a_107b4493f33brow2_col3\" class=\"data row2 col3\" >6</td>\n",
       "                        <td id=\"T_9cf46988_106c_11ea_926a_107b4493f33brow2_col4\" class=\"data row2 col4\" >0.5</td>\n",
       "                        <td id=\"T_9cf46988_106c_11ea_926a_107b4493f33brow2_col5\" class=\"data row2 col5\" >0.5</td>\n",
       "                        <td id=\"T_9cf46988_106c_11ea_926a_107b4493f33brow2_col6\" class=\"data row2 col6\" >0.962535</td>\n",
       "                        <td id=\"T_9cf46988_106c_11ea_926a_107b4493f33brow2_col7\" class=\"data row2 col7\" >0.864206</td>\n",
       "            </tr>\n",
       "            <tr>\n",
       "                                <td id=\"T_9cf46988_106c_11ea_926a_107b4493f33brow3_col0\" class=\"data row3 col0\" >cut_sgemm-1</td>\n",
       "                        <td id=\"T_9cf46988_106c_11ea_926a_107b4493f33brow3_col1\" class=\"data row3 col1\" >parb_stencil-0</td>\n",
       "                        <td id=\"T_9cf46988_106c_11ea_926a_107b4493f33brow3_col2\" class=\"data row3 col2\" >1</td>\n",
       "                        <td id=\"T_9cf46988_106c_11ea_926a_107b4493f33brow3_col3\" class=\"data row3 col3\" >3</td>\n",
       "                        <td id=\"T_9cf46988_106c_11ea_926a_107b4493f33brow3_col4\" class=\"data row3 col4\" >0.5</td>\n",
       "                        <td id=\"T_9cf46988_106c_11ea_926a_107b4493f33brow3_col5\" class=\"data row3 col5\" >0.5</td>\n",
       "                        <td id=\"T_9cf46988_106c_11ea_926a_107b4493f33brow3_col6\" class=\"data row3 col6\" >0.730872</td>\n",
       "                        <td id=\"T_9cf46988_106c_11ea_926a_107b4493f33brow3_col7\" class=\"data row3 col7\" >0.761517</td>\n",
       "            </tr>\n",
       "            <tr>\n",
       "                                <td id=\"T_9cf46988_106c_11ea_926a_107b4493f33brow4_col0\" class=\"data row4 col0\" >cut_wmma-0</td>\n",
       "                        <td id=\"T_9cf46988_106c_11ea_926a_107b4493f33brow4_col1\" class=\"data row4 col1\" >parb_spmv-0</td>\n",
       "                        <td id=\"T_9cf46988_106c_11ea_926a_107b4493f33brow4_col2\" class=\"data row4 col2\" >2</td>\n",
       "                        <td id=\"T_9cf46988_106c_11ea_926a_107b4493f33brow4_col3\" class=\"data row4 col3\" >6</td>\n",
       "                        <td id=\"T_9cf46988_106c_11ea_926a_107b4493f33brow4_col4\" class=\"data row4 col4\" >0.5</td>\n",
       "                        <td id=\"T_9cf46988_106c_11ea_926a_107b4493f33brow4_col5\" class=\"data row4 col5\" >0.5</td>\n",
       "                        <td id=\"T_9cf46988_106c_11ea_926a_107b4493f33brow4_col6\" class=\"data row4 col6\" >0.671119</td>\n",
       "                        <td id=\"T_9cf46988_106c_11ea_926a_107b4493f33brow4_col7\" class=\"data row4 col7\" >0.508979</td>\n",
       "            </tr>\n",
       "    </tbody></table>"
      ],
      "text/plain": [
       "<pandas.io.formats.style.Styler at 0x7fbcc1414be0>"
      ]
     },
     "execution_count": 156,
     "metadata": {},
     "output_type": "execute_result"
    }
   ],
   "source": [
    "df_pair = pd.read_csv('pair.csv')\n",
    "print(df_pair.columns)\n",
    "\n",
    "# split pair into two benchmarks\n",
    "pair = [re.split(r'-(?=\\D)', p) for p in df_pair['pair_str']]\n",
    "df_bench = pd.DataFrame(pair, columns=['bench_1', 'bench_2'])\n",
    "df_pair = pd.concat([df_bench, df_pair], axis=1)\n",
    "\n",
    "# extract resource allocation size\n",
    "hi.process_config_column('intra', 'intra_2', 'l2', 'l2_2', df=df_pair)\n",
    "\n",
    "# calculate slowdown\n",
    "df_pair['slowdown_1'] = df_pair.apply(lambda row: norm_runtime_row(row, runtime='1_runtime', bench='bench_1'), \n",
    "                                      axis=1)\n",
    "df_pair['slowdown_2'] = df_pair.apply(lambda row: norm_runtime_row(row, runtime='2_runtime', bench='bench_2'), \n",
    "                                      axis=1)\n",
    "\n",
    "# display in a table\n",
    "display_cols = ['bench_1', 'bench_2', 'intra', 'intra_2', 'l2', 'l2_2', 'slowdown_1', 'slowdown_2']\n",
    "df_pair[display_cols].style.set_table_styles(fmt.table_style).hide_index()"
   ]
  },
  {
   "cell_type": "code",
   "execution_count": null,
   "metadata": {},
   "outputs": [],
   "source": []
  }
 ],
 "metadata": {
  "kernelspec": {
   "display_name": "Python 3",
   "language": "python",
   "name": "python3"
  },
  "language_info": {
   "codemirror_mode": {
    "name": "ipython",
    "version": 3
   },
   "file_extension": ".py",
   "mimetype": "text/x-python",
   "name": "python",
   "nbconvert_exporter": "python",
   "pygments_lexer": "ipython3",
   "version": "3.6.8"
  }
 },
 "nbformat": 4,
 "nbformat_minor": 2
}
