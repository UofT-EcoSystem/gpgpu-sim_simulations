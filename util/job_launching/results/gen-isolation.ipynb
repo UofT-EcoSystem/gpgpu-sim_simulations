{
 "cells": [
  {
   "cell_type": "code",
   "execution_count": 110,
   "metadata": {},
   "outputs": [
    {
     "name": "stdout",
     "output_type": "stream",
     "text": [
      "Writing gen-isolation.py\n"
     ]
    }
   ],
   "source": [
    "%%writefile gen-isolation.py\n",
    "import numpy as np\n",
    "import matplotlib.pyplot as plt\n",
    "import matplotlib as mpl\n",
    "import pandas as pd\n",
    "from tabulate import tabulate\n",
    "import re\n",
    "import seaborn as sns\n",
    "from matplotlib.backends.backend_pdf import PdfPages\n",
    "import os\n",
    "\n",
    "\n",
    "bench = {'cut_sgemm-0':0, 'cut_sgemm-1':0, 'cut_wmma-0': 0, 'cut_wmma-1': 0, \n",
    "         'parb_stencil-0': 1, 'parb_sgemm-0': 0,\n",
    "         'parb_lbm-0': 1, 'parb_spmv-0': 1, 'parb_cutcp-0': 0}\n",
    "\n",
    "mpl.style.use('seaborn-paper')\n",
    "\n",
    "def avg_array(s):\n",
    "    result = [np.average(np.array(v[1:-1].split(' ')).astype(float)) for v in s]\n",
    "    return np.array(result)\n",
    "\n",
    "def plot_heatmap(df, regex_x, label_x, title, axis, cbar, cbar_ax, cmap, metric_key, metric_name, font):\n",
    "    df['x'] = df['config'].apply(lambda x: re.search(regex_x, x).group(1)).astype(int)\n",
    "\n",
    "    regex_l2 = r'PARTITION_L2_0:(.*):[0-9|\\.]+'\n",
    "    df['L2'] = df['config'].apply(lambda x: re.search(regex_l2, x).group(1)).astype(float)\n",
    "    df.sort_values(['L2', 'x'], inplace=True, ascending=[False, True])\n",
    "\n",
    "    num_sm = len(df['L2'].unique())\n",
    "    data = np.split(df[metric_key].values, num_sm)\n",
    "\n",
    "    if df[metric_key].dtype == np.int64:\n",
    "        fmt = 'd'\n",
    "    else:\n",
    "        fmt = '.4f'\n",
    "\n",
    "    sns.set(font_scale=font)\n",
    "    sns.heatmap(data, ax=axis, linewidth=0.2, linecolor='white', \n",
    "                square=True, cmap=cmap, #vmin=cbar_lim[0], vmax=cbar_lim[1],\n",
    "                xticklabels=df['x'].unique(), yticklabels=df['L2'].unique(),\n",
    "                cbar=cbar, cbar_ax=cbar_ax, annot=True, fmt=fmt,\n",
    "                cbar_kws={'label': metric_name}\n",
    "               )\n",
    "    axis.set_xlabel(label_x)\n",
    "    axis.set_ylabel('Normalized L2 Partition Size')\n",
    "    axis.set_title(title, fontsize=16)\n",
    "\n",
    "def plot_intra_inter(df_intra, df_inter, benchmark, figsize, font, inter_valid=True):\n",
    "    \n",
    "\n",
    "    def plot_line(df, regex_legend, legend, title, axis, metric_key, metric_name):\n",
    "        df['x'] = df['config'].apply(lambda x: re.search(regex_legend, x).group(1)).astype(int)\n",
    "        df['x_c'] = df['x'].apply(lambda x: '{0} {1}'.format(x, legend)).astype('category')\n",
    "\n",
    "        regex_l2 = r'PARTITION_L2_0:(.*):[0-9|\\.]+'\n",
    "        df['L2'] = df['config'].apply(lambda x: re.search(regex_l2, x).group(1)).astype(float)       \n",
    "        \n",
    "        \n",
    "        sns.set(font_scale=font)\n",
    "        sns.lineplot(x='L2', y=metric_key, hue='x_c', data=df, ax=axis)\n",
    "        \n",
    "        axis.set_xlabel('L2 Partition Size')\n",
    "        axis.set_ylabel(metric_name)\n",
    "        axis.set_title(title)\n",
    "        axis.xaxis.grid()\n",
    "\n",
    "    def plot_page_single(pdf, metric_key, metric_name):\n",
    "        cmap_1 = sns.cubehelix_palette(rot=-.4, dark=0.3, as_cmap=True)\n",
    "\n",
    "        fig, ((ax1, ax2)) = plt.subplots(1, 2, figsize=figsize)   \n",
    "        fig.suptitle(benchmark + ': ' + metric_name)\n",
    "\n",
    "        plot_heatmap(df_intra.copy(), regex_x=r'INTRA_0:(.*):0_CTA', \n",
    "                     label_x='Concurrent CTAs/SM', title='Intra-SM', axis=ax1, \n",
    "                     cbar=True, cbar_ax=None,\n",
    "                     cmap=cmap_1, metric_key=metric_key, metric_name=metric_name,\n",
    "                     font=font,\n",
    "                    ) \n",
    "\n",
    "        plot_line(df_intra.copy(), regex_legend=r'INTRA_0:(.*):0_CTA', \n",
    "                 legend='Concurrent CTAs/SM', title='Intra-SM', axis=ax2, \n",
    "                 metric_key=metric_key, metric_name=metric_name,\n",
    "                 )\n",
    "\n",
    "        pdf.savefig(fig)\n",
    "        plt.close()\n",
    "       \n",
    "    def plot_page_both(pdf, metric_key, metric_name):\n",
    "\n",
    "        cmap_1 = sns.cubehelix_palette(rot=.1, as_cmap=True)\n",
    "        cmap_2 = sns.cubehelix_palette(rot=-.4, dark=0.3, as_cmap=True)\n",
    "\n",
    "        # ignore bypass L2D for now\n",
    "        def mask(df):\n",
    "            return df['config'].str.contains('BYPASS_L2D')\n",
    "\n",
    "        fig, ((ax1, ax2), (ax3, ax4)) = plt.subplots(2, 2, figsize=figsize)   \n",
    "        fig.suptitle(benchmark + ': ' + metric_name)\n",
    "\n",
    "\n",
    "        plot_heatmap(df_intra[~mask(df_intra)].copy(), regex_x=r'INTRA_0:(.*):0_CTA', \n",
    "                     label_x='Concurrent CTAs/SM', title='Intra-SM', axis=ax1, \n",
    "                     cbar=True, cbar_ax=None,\n",
    "                     cmap=cmap_1, metric_key=metric_key, metric_name=metric_name, font=font,\n",
    "                    ) \n",
    "        plot_heatmap(df_inter[~mask(df_inter)].copy(), regex_x=r'INTER_0:(.*):0_SM', \n",
    "                     label_x='# of SM', title='Inter-SM', axis=ax2,\n",
    "                     cbar=True, cbar_ax=None,\n",
    "                     cmap=cmap_2, metric_key=metric_key, metric_name=metric_name, font=font,\n",
    "                    ) \n",
    "        plot_line(df_intra[~mask(df_intra)].copy(), regex_legend=r'INTRA_0:(.*):0_CTA', \n",
    "                 legend='Concurrent CTAs/SM', title='Intra-SM', axis=ax3, \n",
    "                 metric_key=metric_key, metric_name=metric_name,\n",
    "                 )\n",
    "        plot_line(df_inter[~mask(df_inter)].copy(), regex_legend=r'INTER_0:(.*):0_SM', \n",
    "                 legend='# of SM', title='Inter-SM', axis=ax4, \n",
    "                 metric_key=metric_key, metric_name=metric_name,\n",
    "                 )\n",
    "\n",
    "        pdf.savefig(fig)\n",
    "        plt.close()\n",
    "\n",
    "    def plot_page(pdf, metric_key, metric_name):\n",
    "        if inter_valid:\n",
    "            plot_page_both(pdf, metric_key, metric_name)\n",
    "        else:\n",
    "            plot_page_single(pdf, metric_key, metric_name)\n",
    "\n",
    "    # scale all IPC to baseline\n",
    "    baseline = df_seq[df_seq['pair_str'] == benchmark]['ipc'].values[0]\n",
    "    df_intra['norm_ipc'] = df_intra['ipc'] / baseline\n",
    "    \n",
    "    df_intra['avg_dram_bw'] = df_intra['dram_bw'].transform(avg_array)\n",
    "    \n",
    "    # calculate DRAM idleness\n",
    "    df_intra['dram_idleness'] = np.divide(df_intra['mem_idle'].transform(avg_array),\n",
    "                                          df_intra['total_cmd'].transform(avg_array))\n",
    "    \n",
    "    if inter_valid:\n",
    "        df_inter['norm_ipc'] = df_inter['ipc'] / baseline\n",
    "        df_inter['avg_dram_bw'] = df_inter['dram_bw'].transform(avg_array)\n",
    "    \n",
    "        # calculate DRAM idleness\n",
    "        df_inter['dram_idleness'] = np.divide(df_inter['mem_idle'].transform(avg_array),\n",
    "                                              df_inter['total_cmd'].transform(avg_array))\n",
    " \n",
    "    filename = '{0}-{1}.pdf'.format(benchmark, 'both' if inter_valid else 'intra')\n",
    "    filename = os.path.join('plots', filename)\n",
    "    with PdfPages(filename) as pdf:\n",
    "        plot_page(pdf, 'norm_ipc', 'Normalized IPC')\n",
    "        plot_page(pdf, 'avg_dram_bw', 'DRAM Bandwidth Utilization')\n",
    "        plot_page(pdf, 'dram_idleness', 'DRAM IDLE RATE')\n",
    "        plot_page(pdf, 'l2_miss_rate', 'L2 Miss Rate')\n",
    "        plot_page(pdf, 'l2_BW', 'L2 Bandwidth')\n",
    "        plot_page(pdf, 'l2_total_accesses', 'L2 Total Accesses')\n",
    "        plot_page(pdf, 'l1D_miss_rate', 'L1 Miss Rate')\n",
    "        plot_page(pdf, 'avg_mem_lat', 'Average Memory Latency')\n",
    "        \n",
    "    return df_intra\n"
   ]
  },
  {
   "cell_type": "code",
   "execution_count": 69,
   "metadata": {},
   "outputs": [
    {
     "name": "stdout",
     "output_type": "stream",
     "text": [
      "Index(['pair_str', 'config', 'gpusim_version', 'jobId', 'grid_x', 'grid_y',\n",
      "       'grid_z', 'block_x', 'block_y', 'block_z', 'ctas/SM', 'runtime', 'ipc',\n",
      "       'instructions', 'avg_mem_lat', 'avg_core_to_l2', 'avg_l2_to_core',\n",
      "       'avg_mrq_latency', 'stall_core_ldst', 'stall_icnt_to_l2', 'l2_BW',\n",
      "       'l2_rshr_entry_fail', 'l2_rshr_merge_fail', 'stall_l2_to_icnt',\n",
      "       'l1D_miss_rate', 'l2_miss_rate', 'l2_total_accesses', 'packet_lat_out',\n",
      "       'network_lat_out', 'inject_out', 'accepted_out', 'packet_lat_in',\n",
      "       'network_lat_in', 'inject_in', 'accepted_in',\n",
      "       'mem_subpartition_parallism', 'mem_subpartition_parallism_util',\n",
      "       'L2_reservation_fail', 'dram_eff', 'dram_bw', 'row_buffer_locality',\n",
      "       'mrqq', 'total_cmd', 'wasted_col', 'wasted_row', 'mem_idle', 'CCDLc',\n",
      "       'WTRc', 'RTWc', 'RCDc', 'RCDWRc'],\n",
      "      dtype='object')\n"
     ]
    }
   ],
   "source": [
    "df_seq = pd.read_csv('seq.csv')\n",
    "df_intra = pd.read_csv('intra.csv')\n",
    "df_inter = pd.read_csv('inter.csv')\n",
    "print(df_inter.columns)"
   ]
  },
  {
   "cell_type": "code",
   "execution_count": 75,
   "metadata": {},
   "outputs": [],
   "source": [
    "df_stencil_intra = df_intra[df_intra['pair_str']=='parb_stencil-0'].copy()\n",
    "df_stencil_inter = df_inter[df_inter['pair_str']=='parb_stencil-0'].copy()\n",
    "plot_intra_inter(df_stencil_intra, df_stencil_inter, 'parb_stencil-0', figsize=(30, 30), font=1.8)"
   ]
  },
  {
   "cell_type": "code",
   "execution_count": 76,
   "metadata": {},
   "outputs": [],
   "source": [
    "df_cutcp_intra = df_intra[df_intra['pair_str']=='parb_cutcp-0'].copy()\n",
    "df_cutcp_inter = df_inter[df_inter['pair_str']=='parb_cutcp-0'].copy()\n",
    "plot_intra_inter(df_cutcp_intra, df_cutcp_inter, 'parb_cutcp-0', figsize=(30,30), font=1.8)"
   ]
  },
  {
   "cell_type": "markdown",
   "metadata": {},
   "source": [
    "## Intra SM Only"
   ]
  },
  {
   "cell_type": "code",
   "execution_count": 92,
   "metadata": {},
   "outputs": [],
   "source": [
    "def gen_intra_only(bench):\n",
    "    df_bench = df_intra[df_intra['pair_str']==bench].copy()\n",
    "    plot_intra_inter(df_bench, None, bench, figsize=(30, 10), font=1.8, inter_valid=False)\n",
    "    return df_bench"
   ]
  },
  {
   "cell_type": "code",
   "execution_count": 93,
   "metadata": {},
   "outputs": [],
   "source": [
    "df_sgemm0 = gen_intra_only('cut_sgemm-0')\n",
    "df_sgemm1 = gen_intra_only('cut_sgemm-1')\n",
    "df_wmma0 = gen_intra_only('cut_wmma-0')\n",
    "df_wmma1 = gen_intra_only('cut_wmma-1')"
   ]
  },
  {
   "cell_type": "code",
   "execution_count": 94,
   "metadata": {},
   "outputs": [],
   "source": [
    "df_cutcp = gen_intra_only('parb_cutcp-0')\n",
    "df_stencil = gen_intra_only('parb_stencil-0')\n",
    "df_lbm = gen_intra_only('parb_lbm-0')\n",
    "df_spmv = gen_intra_only('parb_spmv-0')"
   ]
  },
  {
   "cell_type": "code",
   "execution_count": 109,
   "metadata": {},
   "outputs": [],
   "source": [
    "fig_tot, ((ax1_tot, ax2_tot, ax3_tot, ax4_tot), (ax5_tot, ax6_tot, ax7_tot, ax8_tot)) \\\n",
    "    = plt.subplots(2, 4, figsize=(40, 30))   \n",
    "\n",
    "cmap_1 = sns.cubehelix_palette(rot=-.4, dark=0.3, as_cmap=True)\n",
    "metric_key = 'norm_ipc'\n",
    "metric_name = 'Normalized IPC'\n",
    "\n",
    "plot_heatmap(df_sgemm0, regex_x=r'INTRA_0:(.*):0_CTA', \n",
    "             label_x='Concurrent CTAs/SM', title='cut_sgemm-0', axis=ax1_tot, \n",
    "             cbar=True, cbar_ax=None,\n",
    "             cmap=cmap_1, metric_key=metric_key, metric_name=metric_name,\n",
    "             font=1.4,)\n",
    "plot_heatmap(df_sgemm1, regex_x=r'INTRA_0:(.*):0_CTA', \n",
    "             label_x='Concurrent CTAs/SM', title='cut_sgemm-1', axis=ax2_tot, \n",
    "             cbar=True, cbar_ax=None,\n",
    "             cmap=cmap_1, metric_key=metric_key, metric_name=metric_name,\n",
    "             font=1.4,)\n",
    "plot_heatmap(df_wmma0, regex_x=r'INTRA_0:(.*):0_CTA', \n",
    "             label_x='Concurrent CTAs/SM', title='cut_wmma-0', axis=ax3_tot, \n",
    "             cbar=True, cbar_ax=None,\n",
    "             cmap=cmap_1, metric_key=metric_key, metric_name=metric_name,\n",
    "             font=1.4,)\n",
    "plot_heatmap(df_wmma1, regex_x=r'INTRA_0:(.*):0_CTA', \n",
    "             label_x='Concurrent CTAs/SM', title='cut_wmma-1', axis=ax4_tot, \n",
    "             cbar=True, cbar_ax=None,\n",
    "             cmap=cmap_1, metric_key=metric_key, metric_name=metric_name,\n",
    "             font=1.4,)\n",
    "\n",
    "plot_heatmap(df_cutcp, regex_x=r'INTRA_0:(.*):0_CTA', \n",
    "             label_x='Concurrent CTAs/SM', title='cutcp', axis=ax5_tot, \n",
    "             cbar=True, cbar_ax=None,\n",
    "             cmap=cmap_1, metric_key=metric_key, metric_name=metric_name,\n",
    "             font=1.4,)\n",
    "plot_heatmap(df_stencil, regex_x=r'INTRA_0:(.*):0_CTA', \n",
    "             label_x='Concurrent CTAs/SM', title='stencil', axis=ax6_tot, \n",
    "             cbar=True, cbar_ax=None,\n",
    "             cmap=cmap_1, metric_key=metric_key, metric_name=metric_name,\n",
    "             font=1.4,)\n",
    "plot_heatmap(df_lbm, regex_x=r'INTRA_0:(.*):0_CTA', \n",
    "             label_x='Concurrent CTAs/SM', title='lbm', axis=ax7_tot, \n",
    "             cbar=True, cbar_ax=None,\n",
    "             cmap=cmap_1, metric_key=metric_key, metric_name=metric_name,\n",
    "             font=1.4,)\n",
    "plot_heatmap(df_spmv, regex_x=r'INTRA_0:(.*):0_CTA', \n",
    "             label_x='Concurrent CTAs/SM', title='spmv', axis=ax8_tot, \n",
    "             cbar=True, cbar_ax=None,\n",
    "             cmap=cmap_1, metric_key=metric_key, metric_name=metric_name,\n",
    "             font=1.4,)\n",
    "\n",
    "fig_tot.savefig('plots/total.pdf')\n",
    "plt.close()\n",
    "\n",
    "\n"
   ]
  },
  {
   "cell_type": "code",
   "execution_count": null,
   "metadata": {},
   "outputs": [],
   "source": []
  },
  {
   "cell_type": "code",
   "execution_count": 118,
   "metadata": {},
   "outputs": [],
   "source": [
    "def keyfunc(**kwargs):\n",
    "    print(kwargs)\n",
    "    print(hello)"
   ]
  },
  {
   "cell_type": "code",
   "execution_count": 119,
   "metadata": {},
   "outputs": [
    {
     "name": "stdout",
     "output_type": "stream",
     "text": [
      "{'hello': 1}\n"
     ]
    },
    {
     "ename": "NameError",
     "evalue": "name 'hello' is not defined",
     "output_type": "error",
     "traceback": [
      "\u001b[0;31m---------------------------------------------------------------------------\u001b[0m",
      "\u001b[0;31mNameError\u001b[0m                                 Traceback (most recent call last)",
      "\u001b[0;32m<ipython-input-119-9f13ed4622e5>\u001b[0m in \u001b[0;36m<module>\u001b[0;34m\u001b[0m\n\u001b[0;32m----> 1\u001b[0;31m \u001b[0mkeyfunc\u001b[0m\u001b[0;34m(\u001b[0m\u001b[0mhello\u001b[0m\u001b[0;34m=\u001b[0m\u001b[0;36m1\u001b[0m\u001b[0;34m)\u001b[0m\u001b[0;34m\u001b[0m\u001b[0;34m\u001b[0m\u001b[0m\n\u001b[0m",
      "\u001b[0;32m<ipython-input-118-e560b61ea49f>\u001b[0m in \u001b[0;36mkeyfunc\u001b[0;34m(**kwargs)\u001b[0m\n\u001b[1;32m      1\u001b[0m \u001b[0;32mdef\u001b[0m \u001b[0mkeyfunc\u001b[0m\u001b[0;34m(\u001b[0m\u001b[0;34m**\u001b[0m\u001b[0mkwargs\u001b[0m\u001b[0;34m)\u001b[0m\u001b[0;34m:\u001b[0m\u001b[0;34m\u001b[0m\u001b[0;34m\u001b[0m\u001b[0m\n\u001b[1;32m      2\u001b[0m     \u001b[0mprint\u001b[0m\u001b[0;34m(\u001b[0m\u001b[0mkwargs\u001b[0m\u001b[0;34m)\u001b[0m\u001b[0;34m\u001b[0m\u001b[0;34m\u001b[0m\u001b[0m\n\u001b[0;32m----> 3\u001b[0;31m     \u001b[0mprint\u001b[0m\u001b[0;34m(\u001b[0m\u001b[0mhello\u001b[0m\u001b[0;34m)\u001b[0m\u001b[0;34m\u001b[0m\u001b[0;34m\u001b[0m\u001b[0m\n\u001b[0m",
      "\u001b[0;31mNameError\u001b[0m: name 'hello' is not defined"
     ]
    }
   ],
   "source": [
    "keyfunc(hello=1)"
   ]
  },
  {
   "cell_type": "code",
   "execution_count": null,
   "metadata": {},
   "outputs": [],
   "source": []
  }
 ],
 "metadata": {
  "kernelspec": {
   "display_name": "Python 3",
   "language": "python",
   "name": "python3"
  },
  "language_info": {
   "codemirror_mode": {
    "name": "ipython",
    "version": 3
   },
   "file_extension": ".py",
   "mimetype": "text/x-python",
   "name": "python",
   "nbconvert_exporter": "python",
   "pygments_lexer": "ipython3",
   "version": "3.6.7"
  }
 },
 "nbformat": 4,
 "nbformat_minor": 2
}
