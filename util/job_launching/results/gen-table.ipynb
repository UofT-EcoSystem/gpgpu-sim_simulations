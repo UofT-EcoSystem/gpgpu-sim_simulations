{
 "cells": [
  {
   "cell_type": "code",
   "execution_count": 111,
   "metadata": {},
   "outputs": [],
   "source": [
    "import numpy as np\n",
    "import matplotlib.pyplot as plt\n",
    "import pandas as pd\n",
    "from tabulate import tabulate\n",
    "\n",
    "pd.options.display.float_format = '{:,}'.format\n",
    "table_style = [{'selector': 'tr:nth-of-type(odd)',\n",
    "  'props': [('background', '#eee')]}, \n",
    " {'selector': 'tr:nth-of-type(even)',\n",
    "  'props': [('background', 'white')]},\n",
    " {'selector': 'th',\n",
    "  'props': [('background', '#606060'), \n",
    "            ('color', 'white'),\n",
    "            ('font-family', 'verdana'),\n",
    "            (\"font-size\", \"150%\")]},\n",
    " {'selector': 'td',\n",
    "  'props': [('font-family', 'verdana'), \n",
    "            (\"font-size\", \"150%\")]},\n",
    "]"
   ]
  },
  {
   "cell_type": "markdown",
   "metadata": {},
   "source": [
    "# Isolated Stats"
   ]
  },
  {
   "cell_type": "code",
   "execution_count": 112,
   "metadata": {},
   "outputs": [
    {
     "name": "stdout",
     "output_type": "stream",
     "text": [
      "Index(['benchmark', 'grid_x', 'grid_y', 'grid_z', 'block_x', 'block_y',\n",
      "       'block_z', 'ctas/SM', 'runtime', 'instructions', 'avg_mem_lat',\n",
      "       'avg_core_to_l2', 'avg_l2_to_core', 'avg_mrq_latency',\n",
      "       'stall_core_ldst', 'stall_icnt_to_l2', 'l2_rshr_entry_fail',\n",
      "       'l2_rshr_merge_fail', 'stall_l2_to_icnt', 'l1D_miss_rate',\n",
      "       'l2_miss_rate'],\n",
      "      dtype='object')\n"
     ]
    }
   ],
   "source": [
    "df = pd.read_csv('seq.csv')\n",
    "df = df.drop(columns=['gpusim_version', 'jobId', 'config'])\n",
    "df = df.rename(columns={'pair_str': 'benchmark'})\n",
    "print(df.columns)"
   ]
  },
  {
   "cell_type": "markdown",
   "metadata": {},
   "source": [
    "### Basic Characteristics"
   ]
  },
  {
   "cell_type": "code",
   "execution_count": 113,
   "metadata": {},
   "outputs": [
    {
     "data": {
      "text/html": [
       "<style  type=\"text/css\" >\n",
       "    #T_dc315dc0_efa3_11e9_8cbc_107b4493f33b tr:nth-of-type(odd) {\n",
       "          background: #eee;\n",
       "    }    #T_dc315dc0_efa3_11e9_8cbc_107b4493f33b tr:nth-of-type(even) {\n",
       "          background: white;\n",
       "    }    #T_dc315dc0_efa3_11e9_8cbc_107b4493f33b th {\n",
       "          background: #606060;\n",
       "          color: white;\n",
       "          font-family: verdana;\n",
       "          font-size: 150%;\n",
       "    }    #T_dc315dc0_efa3_11e9_8cbc_107b4493f33b td {\n",
       "          font-family: verdana;\n",
       "          font-size: 150%;\n",
       "    }</style><table id=\"T_dc315dc0_efa3_11e9_8cbc_107b4493f33b\" ><thead>    <tr>        <th class=\"col_heading level0 col0\" >benchmark</th>        <th class=\"col_heading level0 col1\" >grid</th>        <th class=\"col_heading level0 col2\" >block</th>        <th class=\"col_heading level0 col3\" >ctas/SM</th>        <th class=\"col_heading level0 col4\" >achieved ctas/SM</th>        <th class=\"col_heading level0 col5\" >runtime</th>        <th class=\"col_heading level0 col6\" >instructions</th>    </tr></thead><tbody>\n",
       "                <tr>\n",
       "                                <td id=\"T_dc315dc0_efa3_11e9_8cbc_107b4493f33brow0_col0\" class=\"data row0 col0\" >cut_sgemm-0</td>\n",
       "                        <td id=\"T_dc315dc0_efa3_11e9_8cbc_107b4493f33brow0_col1\" class=\"data row0 col1\" >128</td>\n",
       "                        <td id=\"T_dc315dc0_efa3_11e9_8cbc_107b4493f33brow0_col2\" class=\"data row0 col2\" >256</td>\n",
       "                        <td id=\"T_dc315dc0_efa3_11e9_8cbc_107b4493f33brow0_col3\" class=\"data row0 col3\" >2</td>\n",
       "                        <td id=\"T_dc315dc0_efa3_11e9_8cbc_107b4493f33brow0_col4\" class=\"data row0 col4\" >1.6</td>\n",
       "                        <td id=\"T_dc315dc0_efa3_11e9_8cbc_107b4493f33brow0_col5\" class=\"data row0 col5\" >91668</td>\n",
       "                        <td id=\"T_dc315dc0_efa3_11e9_8cbc_107b4493f33brow0_col6\" class=\"data row0 col6\" >228392960</td>\n",
       "            </tr>\n",
       "            <tr>\n",
       "                                <td id=\"T_dc315dc0_efa3_11e9_8cbc_107b4493f33brow1_col0\" class=\"data row1 col0\" >parb_stencil-0</td>\n",
       "                        <td id=\"T_dc315dc0_efa3_11e9_8cbc_107b4493f33brow1_col1\" class=\"data row1 col1\" >1024</td>\n",
       "                        <td id=\"T_dc315dc0_efa3_11e9_8cbc_107b4493f33brow1_col2\" class=\"data row1 col2\" >128</td>\n",
       "                        <td id=\"T_dc315dc0_efa3_11e9_8cbc_107b4493f33brow1_col3\" class=\"data row1 col3\" >16</td>\n",
       "                        <td id=\"T_dc315dc0_efa3_11e9_8cbc_107b4493f33brow1_col4\" class=\"data row1 col4\" >12.8</td>\n",
       "                        <td id=\"T_dc315dc0_efa3_11e9_8cbc_107b4493f33brow1_col5\" class=\"data row1 col5\" >334891</td>\n",
       "                        <td id=\"T_dc315dc0_efa3_11e9_8cbc_107b4493f33brow1_col6\" class=\"data row1 col6\" >644994210</td>\n",
       "            </tr>\n",
       "            <tr>\n",
       "                                <td id=\"T_dc315dc0_efa3_11e9_8cbc_107b4493f33brow2_col0\" class=\"data row2 col0\" >parb_sgemm-0</td>\n",
       "                        <td id=\"T_dc315dc0_efa3_11e9_8cbc_107b4493f33brow2_col1\" class=\"data row2 col1\" >528</td>\n",
       "                        <td id=\"T_dc315dc0_efa3_11e9_8cbc_107b4493f33brow2_col2\" class=\"data row2 col2\" >128</td>\n",
       "                        <td id=\"T_dc315dc0_efa3_11e9_8cbc_107b4493f33brow2_col3\" class=\"data row2 col3\" >11</td>\n",
       "                        <td id=\"T_dc315dc0_efa3_11e9_8cbc_107b4493f33brow2_col4\" class=\"data row2 col4\" >6.6</td>\n",
       "                        <td id=\"T_dc315dc0_efa3_11e9_8cbc_107b4493f33brow2_col5\" class=\"data row2 col5\" >654458</td>\n",
       "                        <td id=\"T_dc315dc0_efa3_11e9_8cbc_107b4493f33brow2_col6\" class=\"data row2 col6\" >2800545792</td>\n",
       "            </tr>\n",
       "            <tr>\n",
       "                                <td id=\"T_dc315dc0_efa3_11e9_8cbc_107b4493f33brow3_col0\" class=\"data row3 col0\" >parb_lbm-0</td>\n",
       "                        <td id=\"T_dc315dc0_efa3_11e9_8cbc_107b4493f33brow3_col1\" class=\"data row3 col1\" >18000</td>\n",
       "                        <td id=\"T_dc315dc0_efa3_11e9_8cbc_107b4493f33brow3_col2\" class=\"data row3 col2\" >120</td>\n",
       "                        <td id=\"T_dc315dc0_efa3_11e9_8cbc_107b4493f33brow3_col3\" class=\"data row3 col3\" >12</td>\n",
       "                        <td id=\"T_dc315dc0_efa3_11e9_8cbc_107b4493f33brow3_col4\" class=\"data row3 col4\" >12</td>\n",
       "                        <td id=\"T_dc315dc0_efa3_11e9_8cbc_107b4493f33brow3_col5\" class=\"data row3 col5\" >929616</td>\n",
       "                        <td id=\"T_dc315dc0_efa3_11e9_8cbc_107b4493f33brow3_col6\" class=\"data row3 col6\" >427778603</td>\n",
       "            </tr>\n",
       "            <tr>\n",
       "                                <td id=\"T_dc315dc0_efa3_11e9_8cbc_107b4493f33brow4_col0\" class=\"data row4 col0\" >parb_spmv-0</td>\n",
       "                        <td id=\"T_dc315dc0_efa3_11e9_8cbc_107b4493f33brow4_col1\" class=\"data row4 col1\" >1147</td>\n",
       "                        <td id=\"T_dc315dc0_efa3_11e9_8cbc_107b4493f33brow4_col2\" class=\"data row4 col2\" >128</td>\n",
       "                        <td id=\"T_dc315dc0_efa3_11e9_8cbc_107b4493f33brow4_col3\" class=\"data row4 col3\" >16</td>\n",
       "                        <td id=\"T_dc315dc0_efa3_11e9_8cbc_107b4493f33brow4_col4\" class=\"data row4 col4\" >14.3375</td>\n",
       "                        <td id=\"T_dc315dc0_efa3_11e9_8cbc_107b4493f33brow4_col5\" class=\"data row4 col5\" >73031</td>\n",
       "                        <td id=\"T_dc315dc0_efa3_11e9_8cbc_107b4493f33brow4_col6\" class=\"data row4 col6\" >52720795</td>\n",
       "            </tr>\n",
       "            <tr>\n",
       "                                <td id=\"T_dc315dc0_efa3_11e9_8cbc_107b4493f33brow5_col0\" class=\"data row5 col0\" >parb_cutcp-0</td>\n",
       "                        <td id=\"T_dc315dc0_efa3_11e9_8cbc_107b4493f33brow5_col1\" class=\"data row5 col1\" >121</td>\n",
       "                        <td id=\"T_dc315dc0_efa3_11e9_8cbc_107b4493f33brow5_col2\" class=\"data row5 col2\" >128</td>\n",
       "                        <td id=\"T_dc315dc0_efa3_11e9_8cbc_107b4493f33brow5_col3\" class=\"data row5 col3\" >16</td>\n",
       "                        <td id=\"T_dc315dc0_efa3_11e9_8cbc_107b4493f33brow5_col4\" class=\"data row5 col4\" >1.5125</td>\n",
       "                        <td id=\"T_dc315dc0_efa3_11e9_8cbc_107b4493f33brow5_col5\" class=\"data row5 col5\" >525052</td>\n",
       "                        <td id=\"T_dc315dc0_efa3_11e9_8cbc_107b4493f33brow5_col6\" class=\"data row5 col6\" >7055002292</td>\n",
       "            </tr>\n",
       "            <tr>\n",
       "                                <td id=\"T_dc315dc0_efa3_11e9_8cbc_107b4493f33brow6_col0\" class=\"data row6 col0\" >cut_wmma-0</td>\n",
       "                        <td id=\"T_dc315dc0_efa3_11e9_8cbc_107b4493f33brow6_col1\" class=\"data row6 col1\" >128</td>\n",
       "                        <td id=\"T_dc315dc0_efa3_11e9_8cbc_107b4493f33brow6_col2\" class=\"data row6 col2\" >64</td>\n",
       "                        <td id=\"T_dc315dc0_efa3_11e9_8cbc_107b4493f33brow6_col3\" class=\"data row6 col3\" >4</td>\n",
       "                        <td id=\"T_dc315dc0_efa3_11e9_8cbc_107b4493f33brow6_col4\" class=\"data row6 col4\" >1.6</td>\n",
       "                        <td id=\"T_dc315dc0_efa3_11e9_8cbc_107b4493f33brow6_col5\" class=\"data row6 col5\" >62335</td>\n",
       "                        <td id=\"T_dc315dc0_efa3_11e9_8cbc_107b4493f33brow6_col6\" class=\"data row6 col6\" >36372480</td>\n",
       "            </tr>\n",
       "    </tbody></table>"
      ],
      "text/plain": [
       "<pandas.io.formats.style.Styler at 0x7f3b66a9a588>"
      ]
     },
     "execution_count": 113,
     "metadata": {},
     "output_type": "execute_result"
    }
   ],
   "source": [
    "df['grid'] = df['grid_x'] * df['grid_y'] * df['grid_z']\n",
    "df['block'] = df['block_x'] * df['block_y'] * df['block_z']\n",
    "# df['runtime'] = df['runtime'].astype(float)\n",
    "df['achieved ctas/SM'] = pd.DataFrame([basic['grid'] / 80, df['ctas/SM']]).min() \n",
    "\n",
    "\n",
    "basic = df[['benchmark', 'grid', 'block', 'ctas/SM', 'achieved ctas/SM', 'runtime', 'instructions']]\n",
    "\n",
    "\n",
    "# style the table\n",
    "basic.style.set_table_styles(table_style).hide_index()"
   ]
  },
  {
   "cell_type": "markdown",
   "metadata": {},
   "source": [
    "### Memory Latency"
   ]
  },
  {
   "cell_type": "code",
   "execution_count": 114,
   "metadata": {},
   "outputs": [
    {
     "data": {
      "text/html": [
       "<style  type=\"text/css\" >\n",
       "    #T_e06cecb0_efa3_11e9_8cbc_107b4493f33b tr:nth-of-type(odd) {\n",
       "          background: #eee;\n",
       "    }    #T_e06cecb0_efa3_11e9_8cbc_107b4493f33b tr:nth-of-type(even) {\n",
       "          background: white;\n",
       "    }    #T_e06cecb0_efa3_11e9_8cbc_107b4493f33b th {\n",
       "          background: #606060;\n",
       "          color: white;\n",
       "          font-family: verdana;\n",
       "          font-size: 150%;\n",
       "    }    #T_e06cecb0_efa3_11e9_8cbc_107b4493f33b td {\n",
       "          font-family: verdana;\n",
       "          font-size: 150%;\n",
       "    }</style><table id=\"T_e06cecb0_efa3_11e9_8cbc_107b4493f33b\" ><thead>    <tr>        <th class=\"col_heading level0 col0\" >benchmark</th>        <th class=\"col_heading level0 col1\" >avg_mem_lat</th>        <th class=\"col_heading level0 col2\" >avg_core_to_l2</th>        <th class=\"col_heading level0 col3\" >avg_l2_to_core</th>        <th class=\"col_heading level0 col4\" >avg_mrq_latency</th>        <th class=\"col_heading level0 col5\" >time(l2/dram)</th>        <th class=\"col_heading level0 col6\" >predict(l2/dram)</th>    </tr></thead><tbody>\n",
       "                <tr>\n",
       "                                <td id=\"T_e06cecb0_efa3_11e9_8cbc_107b4493f33brow0_col0\" class=\"data row0 col0\" >cut_sgemm-0</td>\n",
       "                        <td id=\"T_e06cecb0_efa3_11e9_8cbc_107b4493f33brow0_col1\" class=\"data row0 col1\" >315</td>\n",
       "                        <td id=\"T_e06cecb0_efa3_11e9_8cbc_107b4493f33brow0_col2\" class=\"data row0 col2\" >150</td>\n",
       "                        <td id=\"T_e06cecb0_efa3_11e9_8cbc_107b4493f33brow0_col3\" class=\"data row0 col3\" >22</td>\n",
       "                        <td id=\"T_e06cecb0_efa3_11e9_8cbc_107b4493f33brow0_col4\" class=\"data row0 col4\" >6</td>\n",
       "                        <td id=\"T_e06cecb0_efa3_11e9_8cbc_107b4493f33brow0_col5\" class=\"data row0 col5\" >143</td>\n",
       "                        <td id=\"T_e06cecb0_efa3_11e9_8cbc_107b4493f33brow0_col6\" class=\"data row0 col6\" >174.66</td>\n",
       "            </tr>\n",
       "            <tr>\n",
       "                                <td id=\"T_e06cecb0_efa3_11e9_8cbc_107b4493f33brow1_col0\" class=\"data row1 col0\" >parb_stencil-0</td>\n",
       "                        <td id=\"T_e06cecb0_efa3_11e9_8cbc_107b4493f33brow1_col1\" class=\"data row1 col1\" >1277</td>\n",
       "                        <td id=\"T_e06cecb0_efa3_11e9_8cbc_107b4493f33brow1_col2\" class=\"data row1 col2\" >694</td>\n",
       "                        <td id=\"T_e06cecb0_efa3_11e9_8cbc_107b4493f33brow1_col3\" class=\"data row1 col3\" >20</td>\n",
       "                        <td id=\"T_e06cecb0_efa3_11e9_8cbc_107b4493f33brow1_col4\" class=\"data row1 col4\" >170</td>\n",
       "                        <td id=\"T_e06cecb0_efa3_11e9_8cbc_107b4493f33brow1_col5\" class=\"data row1 col5\" >563</td>\n",
       "                        <td id=\"T_e06cecb0_efa3_11e9_8cbc_107b4493f33brow1_col6\" class=\"data row1 col6\" >196.51</td>\n",
       "            </tr>\n",
       "            <tr>\n",
       "                                <td id=\"T_e06cecb0_efa3_11e9_8cbc_107b4493f33brow2_col0\" class=\"data row2 col0\" >parb_sgemm-0</td>\n",
       "                        <td id=\"T_e06cecb0_efa3_11e9_8cbc_107b4493f33brow2_col1\" class=\"data row2 col1\" >223</td>\n",
       "                        <td id=\"T_e06cecb0_efa3_11e9_8cbc_107b4493f33brow2_col2\" class=\"data row2 col2\" >32</td>\n",
       "                        <td id=\"T_e06cecb0_efa3_11e9_8cbc_107b4493f33brow2_col3\" class=\"data row2 col3\" >11</td>\n",
       "                        <td id=\"T_e06cecb0_efa3_11e9_8cbc_107b4493f33brow2_col4\" class=\"data row2 col4\" >15</td>\n",
       "                        <td id=\"T_e06cecb0_efa3_11e9_8cbc_107b4493f33brow2_col5\" class=\"data row2 col5\" >180</td>\n",
       "                        <td id=\"T_e06cecb0_efa3_11e9_8cbc_107b4493f33brow2_col6\" class=\"data row2 col6\" >134.45</td>\n",
       "            </tr>\n",
       "            <tr>\n",
       "                                <td id=\"T_e06cecb0_efa3_11e9_8cbc_107b4493f33brow3_col0\" class=\"data row3 col0\" >parb_lbm-0</td>\n",
       "                        <td id=\"T_e06cecb0_efa3_11e9_8cbc_107b4493f33brow3_col1\" class=\"data row3 col1\" >21834</td>\n",
       "                        <td id=\"T_e06cecb0_efa3_11e9_8cbc_107b4493f33brow3_col2\" class=\"data row3 col2\" >21115</td>\n",
       "                        <td id=\"T_e06cecb0_efa3_11e9_8cbc_107b4493f33brow3_col3\" class=\"data row3 col3\" >58</td>\n",
       "                        <td id=\"T_e06cecb0_efa3_11e9_8cbc_107b4493f33brow3_col4\" class=\"data row3 col4\" >187</td>\n",
       "                        <td id=\"T_e06cecb0_efa3_11e9_8cbc_107b4493f33brow3_col5\" class=\"data row3 col5\" >661</td>\n",
       "                        <td id=\"T_e06cecb0_efa3_11e9_8cbc_107b4493f33brow3_col6\" class=\"data row3 col6\" >219.96</td>\n",
       "            </tr>\n",
       "            <tr>\n",
       "                                <td id=\"T_e06cecb0_efa3_11e9_8cbc_107b4493f33brow4_col0\" class=\"data row4 col0\" >parb_spmv-0</td>\n",
       "                        <td id=\"T_e06cecb0_efa3_11e9_8cbc_107b4493f33brow4_col1\" class=\"data row4 col1\" >796</td>\n",
       "                        <td id=\"T_e06cecb0_efa3_11e9_8cbc_107b4493f33brow4_col2\" class=\"data row4 col2\" >241</td>\n",
       "                        <td id=\"T_e06cecb0_efa3_11e9_8cbc_107b4493f33brow4_col3\" class=\"data row4 col3\" >15</td>\n",
       "                        <td id=\"T_e06cecb0_efa3_11e9_8cbc_107b4493f33brow4_col4\" class=\"data row4 col4\" >76</td>\n",
       "                        <td id=\"T_e06cecb0_efa3_11e9_8cbc_107b4493f33brow4_col5\" class=\"data row4 col5\" >540</td>\n",
       "                        <td id=\"T_e06cecb0_efa3_11e9_8cbc_107b4493f33brow4_col6\" class=\"data row4 col6\" >205.71</td>\n",
       "            </tr>\n",
       "            <tr>\n",
       "                                <td id=\"T_e06cecb0_efa3_11e9_8cbc_107b4493f33brow5_col0\" class=\"data row5 col0\" >parb_cutcp-0</td>\n",
       "                        <td id=\"T_e06cecb0_efa3_11e9_8cbc_107b4493f33brow5_col1\" class=\"data row5 col1\" >154</td>\n",
       "                        <td id=\"T_e06cecb0_efa3_11e9_8cbc_107b4493f33brow5_col2\" class=\"data row5 col2\" >22</td>\n",
       "                        <td id=\"T_e06cecb0_efa3_11e9_8cbc_107b4493f33brow5_col3\" class=\"data row5 col3\" >7</td>\n",
       "                        <td id=\"T_e06cecb0_efa3_11e9_8cbc_107b4493f33brow5_col4\" class=\"data row5 col4\" >6</td>\n",
       "                        <td id=\"T_e06cecb0_efa3_11e9_8cbc_107b4493f33brow5_col5\" class=\"data row5 col5\" >125</td>\n",
       "                        <td id=\"T_e06cecb0_efa3_11e9_8cbc_107b4493f33brow5_col6\" class=\"data row5 col6\" >124.53</td>\n",
       "            </tr>\n",
       "            <tr>\n",
       "                                <td id=\"T_e06cecb0_efa3_11e9_8cbc_107b4493f33brow6_col0\" class=\"data row6 col0\" >cut_wmma-0</td>\n",
       "                        <td id=\"T_e06cecb0_efa3_11e9_8cbc_107b4493f33brow6_col1\" class=\"data row6 col1\" >836</td>\n",
       "                        <td id=\"T_e06cecb0_efa3_11e9_8cbc_107b4493f33brow6_col2\" class=\"data row6 col2\" >704</td>\n",
       "                        <td id=\"T_e06cecb0_efa3_11e9_8cbc_107b4493f33brow6_col3\" class=\"data row6 col3\" >8</td>\n",
       "                        <td id=\"T_e06cecb0_efa3_11e9_8cbc_107b4493f33brow6_col4\" class=\"data row6 col4\" >8</td>\n",
       "                        <td id=\"T_e06cecb0_efa3_11e9_8cbc_107b4493f33brow6_col5\" class=\"data row6 col5\" >124</td>\n",
       "                        <td id=\"T_e06cecb0_efa3_11e9_8cbc_107b4493f33brow6_col6\" class=\"data row6 col6\" >132.75</td>\n",
       "            </tr>\n",
       "    </tbody></table>"
      ],
      "text/plain": [
       "<pandas.io.formats.style.Styler at 0x7f3b66e25748>"
      ]
     },
     "execution_count": 114,
     "metadata": {},
     "output_type": "execute_result"
    }
   ],
   "source": [
    "df['time(l2/dram)'] = df['avg_mem_lat'] - df['avg_core_to_l2'] - df['avg_l2_to_core']\n",
    "\n",
    "l2_hit_lat = 120\n",
    "dram_lat = 100\n",
    "df['predict(l2/dram)'] = l2_hit_lat + dram_lat * df['l2_miss_rate']\n",
    "\n",
    "mem = df[['benchmark', 'avg_mem_lat', 'avg_core_to_l2', \n",
    "          'avg_l2_to_core', 'avg_mrq_latency', 'time(l2/dram)', 'predict(l2/dram)']]\n",
    "\n",
    "\n",
    "# style the table\n",
    "mem.style.set_table_styles(table_style).hide_index()"
   ]
  },
  {
   "cell_type": "markdown",
   "metadata": {},
   "source": [
    "### Stalls"
   ]
  },
  {
   "cell_type": "code",
   "execution_count": 142,
   "metadata": {},
   "outputs": [
    {
     "data": {
      "text/html": [
       "<style  type=\"text/css\" >\n",
       "    #T_243f7fc8_efa6_11e9_8cbc_107b4493f33b tr:nth-of-type(odd) {\n",
       "          background: #eee;\n",
       "    }    #T_243f7fc8_efa6_11e9_8cbc_107b4493f33b tr:nth-of-type(even) {\n",
       "          background: white;\n",
       "    }    #T_243f7fc8_efa6_11e9_8cbc_107b4493f33b th {\n",
       "          background: #606060;\n",
       "          color: white;\n",
       "          font-family: verdana;\n",
       "          font-size: 150%;\n",
       "    }    #T_243f7fc8_efa6_11e9_8cbc_107b4493f33b td {\n",
       "          font-family: verdana;\n",
       "          font-size: 150%;\n",
       "    }</style><table id=\"T_243f7fc8_efa6_11e9_8cbc_107b4493f33b\" ><thead>    <tr>        <th class=\"col_heading level0 col0\" >stall_core_ldst</th>        <th class=\"col_heading level0 col1\" >stall_icnt_to_l2</th>        <th class=\"col_heading level0 col2\" >l2_rshr_entry_fail</th>        <th class=\"col_heading level0 col3\" >l2_rshr_merge_fail</th>        <th class=\"col_heading level0 col4\" >stall_l2_to_icnt</th>        <th class=\"col_heading level0 col5\" >benchmark</th>    </tr></thead><tbody>\n",
       "                <tr>\n",
       "                                <td id=\"T_243f7fc8_efa6_11e9_8cbc_107b4493f33brow0_col0\" class=\"data row0 col0\" >5.82374</td>\n",
       "                        <td id=\"T_243f7fc8_efa6_11e9_8cbc_107b4493f33brow0_col1\" class=\"data row0 col1\" >0.319566</td>\n",
       "                        <td id=\"T_243f7fc8_efa6_11e9_8cbc_107b4493f33brow0_col2\" class=\"data row0 col2\" >0</td>\n",
       "                        <td id=\"T_243f7fc8_efa6_11e9_8cbc_107b4493f33brow0_col3\" class=\"data row0 col3\" >0.173147</td>\n",
       "                        <td id=\"T_243f7fc8_efa6_11e9_8cbc_107b4493f33brow0_col4\" class=\"data row0 col4\" >0</td>\n",
       "                        <td id=\"T_243f7fc8_efa6_11e9_8cbc_107b4493f33brow0_col5\" class=\"data row0 col5\" >cut_sgemm-0</td>\n",
       "            </tr>\n",
       "            <tr>\n",
       "                                <td id=\"T_243f7fc8_efa6_11e9_8cbc_107b4493f33brow1_col0\" class=\"data row1 col0\" >11.8458</td>\n",
       "                        <td id=\"T_243f7fc8_efa6_11e9_8cbc_107b4493f33brow1_col1\" class=\"data row1 col1\" >21.4548</td>\n",
       "                        <td id=\"T_243f7fc8_efa6_11e9_8cbc_107b4493f33brow1_col2\" class=\"data row1 col2\" >0</td>\n",
       "                        <td id=\"T_243f7fc8_efa6_11e9_8cbc_107b4493f33brow1_col3\" class=\"data row1 col3\" >0</td>\n",
       "                        <td id=\"T_243f7fc8_efa6_11e9_8cbc_107b4493f33brow1_col4\" class=\"data row1 col4\" >0</td>\n",
       "                        <td id=\"T_243f7fc8_efa6_11e9_8cbc_107b4493f33brow1_col5\" class=\"data row1 col5\" >parb_stencil-0</td>\n",
       "            </tr>\n",
       "            <tr>\n",
       "                                <td id=\"T_243f7fc8_efa6_11e9_8cbc_107b4493f33brow2_col0\" class=\"data row2 col0\" >11.2983</td>\n",
       "                        <td id=\"T_243f7fc8_efa6_11e9_8cbc_107b4493f33brow2_col1\" class=\"data row2 col1\" >0.00609359</td>\n",
       "                        <td id=\"T_243f7fc8_efa6_11e9_8cbc_107b4493f33brow2_col2\" class=\"data row2 col2\" >0</td>\n",
       "                        <td id=\"T_243f7fc8_efa6_11e9_8cbc_107b4493f33brow2_col3\" class=\"data row2 col3\" >3.14369</td>\n",
       "                        <td id=\"T_243f7fc8_efa6_11e9_8cbc_107b4493f33brow2_col4\" class=\"data row2 col4\" >0</td>\n",
       "                        <td id=\"T_243f7fc8_efa6_11e9_8cbc_107b4493f33brow2_col5\" class=\"data row2 col5\" >parb_sgemm-0</td>\n",
       "            </tr>\n",
       "            <tr>\n",
       "                                <td id=\"T_243f7fc8_efa6_11e9_8cbc_107b4493f33brow3_col0\" class=\"data row3 col0\" >9.21082</td>\n",
       "                        <td id=\"T_243f7fc8_efa6_11e9_8cbc_107b4493f33brow3_col1\" class=\"data row3 col1\" >19.6344</td>\n",
       "                        <td id=\"T_243f7fc8_efa6_11e9_8cbc_107b4493f33brow3_col2\" class=\"data row3 col2\" >0.0299489</td>\n",
       "                        <td id=\"T_243f7fc8_efa6_11e9_8cbc_107b4493f33brow3_col3\" class=\"data row3 col3\" >0</td>\n",
       "                        <td id=\"T_243f7fc8_efa6_11e9_8cbc_107b4493f33brow3_col4\" class=\"data row3 col4\" >0</td>\n",
       "                        <td id=\"T_243f7fc8_efa6_11e9_8cbc_107b4493f33brow3_col5\" class=\"data row3 col5\" >parb_lbm-0</td>\n",
       "            </tr>\n",
       "            <tr>\n",
       "                                <td id=\"T_243f7fc8_efa6_11e9_8cbc_107b4493f33brow4_col0\" class=\"data row4 col0\" >36.9625</td>\n",
       "                        <td id=\"T_243f7fc8_efa6_11e9_8cbc_107b4493f33brow4_col1\" class=\"data row4 col1\" >13.8805</td>\n",
       "                        <td id=\"T_243f7fc8_efa6_11e9_8cbc_107b4493f33brow4_col2\" class=\"data row4 col2\" >0.000301242</td>\n",
       "                        <td id=\"T_243f7fc8_efa6_11e9_8cbc_107b4493f33brow4_col3\" class=\"data row4 col3\" >0.000944804</td>\n",
       "                        <td id=\"T_243f7fc8_efa6_11e9_8cbc_107b4493f33brow4_col4\" class=\"data row4 col4\" >0</td>\n",
       "                        <td id=\"T_243f7fc8_efa6_11e9_8cbc_107b4493f33brow4_col5\" class=\"data row4 col5\" >parb_spmv-0</td>\n",
       "            </tr>\n",
       "            <tr>\n",
       "                                <td id=\"T_243f7fc8_efa6_11e9_8cbc_107b4493f33brow5_col0\" class=\"data row5 col0\" >3.72643</td>\n",
       "                        <td id=\"T_243f7fc8_efa6_11e9_8cbc_107b4493f33brow5_col1\" class=\"data row5 col1\" >0.0122274</td>\n",
       "                        <td id=\"T_243f7fc8_efa6_11e9_8cbc_107b4493f33brow5_col2\" class=\"data row5 col2\" >0</td>\n",
       "                        <td id=\"T_243f7fc8_efa6_11e9_8cbc_107b4493f33brow5_col3\" class=\"data row5 col3\" >0</td>\n",
       "                        <td id=\"T_243f7fc8_efa6_11e9_8cbc_107b4493f33brow5_col4\" class=\"data row5 col4\" >0</td>\n",
       "                        <td id=\"T_243f7fc8_efa6_11e9_8cbc_107b4493f33brow5_col5\" class=\"data row5 col5\" >parb_cutcp-0</td>\n",
       "            </tr>\n",
       "            <tr>\n",
       "                                <td id=\"T_243f7fc8_efa6_11e9_8cbc_107b4493f33brow6_col0\" class=\"data row6 col0\" >13.6165</td>\n",
       "                        <td id=\"T_243f7fc8_efa6_11e9_8cbc_107b4493f33brow6_col1\" class=\"data row6 col1\" >0.197963</td>\n",
       "                        <td id=\"T_243f7fc8_efa6_11e9_8cbc_107b4493f33brow6_col2\" class=\"data row6 col2\" >0</td>\n",
       "                        <td id=\"T_243f7fc8_efa6_11e9_8cbc_107b4493f33brow6_col3\" class=\"data row6 col3\" >0</td>\n",
       "                        <td id=\"T_243f7fc8_efa6_11e9_8cbc_107b4493f33brow6_col4\" class=\"data row6 col4\" >0</td>\n",
       "                        <td id=\"T_243f7fc8_efa6_11e9_8cbc_107b4493f33brow6_col5\" class=\"data row6 col5\" >cut_wmma-0</td>\n",
       "            </tr>\n",
       "    </tbody></table>"
      ],
      "text/plain": [
       "<pandas.io.formats.style.Styler at 0x7f3b667e3390>"
      ]
     },
     "execution_count": 142,
     "metadata": {},
     "output_type": "execute_result"
    }
   ],
   "source": [
    "stall = df[['stall_core_ldst', 'stall_icnt_to_l2', 'l2_rshr_entry_fail',\n",
    "       'l2_rshr_merge_fail', 'stall_l2_to_icnt']].div(df[['runtime']].iloc[:, 0], axis=0)\n",
    "\n",
    "stall['benchmark'] = df['benchmark']\n",
    "\n",
    "stall.style.set_table_styles(table_style).hide_index()\n",
    "\n",
    "\n",
    "###### CHECK if the values are correct!!!!!!!!!!!!"
   ]
  },
  {
   "cell_type": "code",
   "execution_count": null,
   "metadata": {},
   "outputs": [],
   "source": []
  }
 ],
 "metadata": {
  "kernelspec": {
   "display_name": "Python 3",
   "language": "python",
   "name": "python3"
  },
  "language_info": {
   "codemirror_mode": {
    "name": "ipython",
    "version": 3
   },
   "file_extension": ".py",
   "mimetype": "text/x-python",
   "name": "python",
   "nbconvert_exporter": "python",
   "pygments_lexer": "ipython3",
   "version": "3.6.7"
  }
 },
 "nbformat": 4,
 "nbformat_minor": 2
}
